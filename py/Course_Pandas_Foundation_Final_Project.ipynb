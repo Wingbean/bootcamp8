{
  "cells": [
    {
      "cell_type": "markdown",
      "metadata": {
        "id": "view-in-github",
        "colab_type": "text"
      },
      "source": [
        "<a href=\"https://colab.research.google.com/github/Wingbean/bootcamp8/blob/main/py/Course_Pandas_Foundation_Final_Project.ipynb\" target=\"_parent\"><img src=\"https://colab.research.google.com/assets/colab-badge.svg\" alt=\"Open In Colab\"/></a>"
      ]
    },
    {
      "cell_type": "markdown",
      "source": [
        "# Project"
      ],
      "metadata": {
        "datalore": {
          "node_id": "Project",
          "type": "MD",
          "hide_input_from_viewers": false,
          "hide_output_from_viewers": false,
          "sheet_delimiter": true
        },
        "id": "ZiHdbpllAjOD"
      }
    },
    {
      "cell_type": "markdown",
      "source": [
        "# Final Project - Analyzing Sales Data\n",
        "\n",
        "**Date**: August 2023\n",
        "\n",
        "**Author**: DataSloth\n",
        "\n",
        "**Course**: `Pandas Foundation`"
      ],
      "metadata": {
        "datalore": {
          "node_id": "QHfXVwo7fbvq5VhIn9hWhk",
          "type": "MD",
          "hide_input_from_viewers": false,
          "hide_output_from_viewers": false,
          "report_properties": {
            "rowId": "PbPOcFJp4kZc8SwVaEYwCv"
          }
        },
        "id": "LlTRJ8cqAjOF"
      }
    },
    {
      "cell_type": "code",
      "source": [
        "# import data\n",
        "import pandas as pd\n",
        "df = pd.read_csv(\"sample-store.csv\")"
      ],
      "execution_count": null,
      "outputs": [],
      "metadata": {
        "datalore": {
          "node_id": "ghti0C6rqjpp3GPqKLQX1c",
          "type": "CODE",
          "hide_input_from_viewers": false,
          "hide_output_from_viewers": false,
          "report_properties": {
            "rowId": "8rtSvfR5cpcOkJX12iMNBM"
          }
        },
        "id": "NBB6RsMaAjOG"
      }
    },
    {
      "cell_type": "code",
      "source": [
        "# preview top 5 rows\n",
        "df.tail(20)"
      ],
      "execution_count": null,
      "outputs": [
        {
          "data": {
            "text/html": [
              "<div>\n",
              "<style scoped>\n",
              "    .dataframe tbody tr th:only-of-type {\n",
              "        vertical-align: middle;\n",
              "    }\n",
              "\n",
              "    .dataframe tbody tr th {\n",
              "        vertical-align: top;\n",
              "    }\n",
              "\n",
              "    .dataframe thead th {\n",
              "        text-align: right;\n",
              "    }\n",
              "</style>\n",
              "<table border=\"1\" class=\"dataframe\">\n",
              "  <thead>\n",
              "    <tr style=\"text-align: right;\">\n",
              "      <th></th>\n",
              "      <th>Row ID</th>\n",
              "      <th>Order ID</th>\n",
              "      <th>Order Date</th>\n",
              "      <th>Ship Date</th>\n",
              "      <th>Ship Mode</th>\n",
              "      <th>Customer ID</th>\n",
              "      <th>Customer Name</th>\n",
              "      <th>Segment</th>\n",
              "      <th>Country/Region</th>\n",
              "      <th>City</th>\n",
              "      <th>...</th>\n",
              "      <th>Postal Code</th>\n",
              "      <th>Region</th>\n",
              "      <th>Product ID</th>\n",
              "      <th>Category</th>\n",
              "      <th>Sub-Category</th>\n",
              "      <th>Product Name</th>\n",
              "      <th>Sales</th>\n",
              "      <th>Quantity</th>\n",
              "      <th>Discount</th>\n",
              "      <th>Profit</th>\n",
              "    </tr>\n",
              "  </thead>\n",
              "  <tbody>\n",
              "    <tr>\n",
              "      <th>9974</th>\n",
              "      <td>9975</td>\n",
              "      <td>US-2019-103674</td>\n",
              "      <td>12/6/2019</td>\n",
              "      <td>12/10/2019</td>\n",
              "      <td>Standard Class</td>\n",
              "      <td>AP-10720</td>\n",
              "      <td>Anne Pryor</td>\n",
              "      <td>Home Office</td>\n",
              "      <td>United States</td>\n",
              "      <td>Los Angeles</td>\n",
              "      <td>...</td>\n",
              "      <td>90032.0</td>\n",
              "      <td>West</td>\n",
              "      <td>OFF-AR-10004752</td>\n",
              "      <td>Office Supplies</td>\n",
              "      <td>Art</td>\n",
              "      <td>Blackstonian Pencils</td>\n",
              "      <td>18.690</td>\n",
              "      <td>7</td>\n",
              "      <td>0.0</td>\n",
              "      <td>5.2332</td>\n",
              "    </tr>\n",
              "    <tr>\n",
              "      <th>9975</th>\n",
              "      <td>9976</td>\n",
              "      <td>US-2019-103674</td>\n",
              "      <td>12/6/2019</td>\n",
              "      <td>12/10/2019</td>\n",
              "      <td>Standard Class</td>\n",
              "      <td>AP-10720</td>\n",
              "      <td>Anne Pryor</td>\n",
              "      <td>Home Office</td>\n",
              "      <td>United States</td>\n",
              "      <td>Los Angeles</td>\n",
              "      <td>...</td>\n",
              "      <td>90032.0</td>\n",
              "      <td>West</td>\n",
              "      <td>OFF-PA-10000743</td>\n",
              "      <td>Office Supplies</td>\n",
              "      <td>Paper</td>\n",
              "      <td>Xerox 1977</td>\n",
              "      <td>13.360</td>\n",
              "      <td>2</td>\n",
              "      <td>0.0</td>\n",
              "      <td>6.4128</td>\n",
              "    </tr>\n",
              "    <tr>\n",
              "      <th>9976</th>\n",
              "      <td>9977</td>\n",
              "      <td>US-2019-103674</td>\n",
              "      <td>12/6/2019</td>\n",
              "      <td>12/10/2019</td>\n",
              "      <td>Standard Class</td>\n",
              "      <td>AP-10720</td>\n",
              "      <td>Anne Pryor</td>\n",
              "      <td>Home Office</td>\n",
              "      <td>United States</td>\n",
              "      <td>Los Angeles</td>\n",
              "      <td>...</td>\n",
              "      <td>90032.0</td>\n",
              "      <td>West</td>\n",
              "      <td>TEC-PH-10002496</td>\n",
              "      <td>Technology</td>\n",
              "      <td>Phones</td>\n",
              "      <td>Cisco SPA301</td>\n",
              "      <td>249.584</td>\n",
              "      <td>2</td>\n",
              "      <td>0.2</td>\n",
              "      <td>31.1980</td>\n",
              "    </tr>\n",
              "    <tr>\n",
              "      <th>9977</th>\n",
              "      <td>9978</td>\n",
              "      <td>US-2019-103674</td>\n",
              "      <td>12/6/2019</td>\n",
              "      <td>12/10/2019</td>\n",
              "      <td>Standard Class</td>\n",
              "      <td>AP-10720</td>\n",
              "      <td>Anne Pryor</td>\n",
              "      <td>Home Office</td>\n",
              "      <td>United States</td>\n",
              "      <td>Los Angeles</td>\n",
              "      <td>...</td>\n",
              "      <td>90032.0</td>\n",
              "      <td>West</td>\n",
              "      <td>OFF-FA-10003467</td>\n",
              "      <td>Office Supplies</td>\n",
              "      <td>Fasteners</td>\n",
              "      <td>Alliance Big Bands Rubber Bands, 12/Pack</td>\n",
              "      <td>13.860</td>\n",
              "      <td>7</td>\n",
              "      <td>0.0</td>\n",
              "      <td>0.0000</td>\n",
              "    </tr>\n",
              "    <tr>\n",
              "      <th>9978</th>\n",
              "      <td>9979</td>\n",
              "      <td>US-2019-103674</td>\n",
              "      <td>12/6/2019</td>\n",
              "      <td>12/10/2019</td>\n",
              "      <td>Standard Class</td>\n",
              "      <td>AP-10720</td>\n",
              "      <td>Anne Pryor</td>\n",
              "      <td>Home Office</td>\n",
              "      <td>United States</td>\n",
              "      <td>Los Angeles</td>\n",
              "      <td>...</td>\n",
              "      <td>90032.0</td>\n",
              "      <td>West</td>\n",
              "      <td>OFF-BI-10003727</td>\n",
              "      <td>Office Supplies</td>\n",
              "      <td>Binders</td>\n",
              "      <td>Avery Durable Slant Ring Binders With Label Ho...</td>\n",
              "      <td>13.376</td>\n",
              "      <td>4</td>\n",
              "      <td>0.2</td>\n",
              "      <td>4.6816</td>\n",
              "    </tr>\n",
              "    <tr>\n",
              "      <th>9979</th>\n",
              "      <td>9980</td>\n",
              "      <td>US-2019-103674</td>\n",
              "      <td>12/6/2019</td>\n",
              "      <td>12/10/2019</td>\n",
              "      <td>Standard Class</td>\n",
              "      <td>AP-10720</td>\n",
              "      <td>Anne Pryor</td>\n",
              "      <td>Home Office</td>\n",
              "      <td>United States</td>\n",
              "      <td>Los Angeles</td>\n",
              "      <td>...</td>\n",
              "      <td>90032.0</td>\n",
              "      <td>West</td>\n",
              "      <td>OFF-BI-10002026</td>\n",
              "      <td>Office Supplies</td>\n",
              "      <td>Binders</td>\n",
              "      <td>Ibico Recycled Linen-Style Covers</td>\n",
              "      <td>437.472</td>\n",
              "      <td>14</td>\n",
              "      <td>0.2</td>\n",
              "      <td>153.1152</td>\n",
              "    </tr>\n",
              "    <tr>\n",
              "      <th>9980</th>\n",
              "      <td>9981</td>\n",
              "      <td>US-2018-151435</td>\n",
              "      <td>9/6/2018</td>\n",
              "      <td>9/9/2018</td>\n",
              "      <td>Second Class</td>\n",
              "      <td>SW-20455</td>\n",
              "      <td>Shaun Weien</td>\n",
              "      <td>Consumer</td>\n",
              "      <td>United States</td>\n",
              "      <td>Lafayette</td>\n",
              "      <td>...</td>\n",
              "      <td>70506.0</td>\n",
              "      <td>South</td>\n",
              "      <td>FUR-TA-10001039</td>\n",
              "      <td>Furniture</td>\n",
              "      <td>Tables</td>\n",
              "      <td>KI Adjustable-Height Table</td>\n",
              "      <td>85.980</td>\n",
              "      <td>1</td>\n",
              "      <td>0.0</td>\n",
              "      <td>22.3548</td>\n",
              "    </tr>\n",
              "    <tr>\n",
              "      <th>9981</th>\n",
              "      <td>9982</td>\n",
              "      <td>CA-2020-163566</td>\n",
              "      <td>8/3/2020</td>\n",
              "      <td>8/6/2020</td>\n",
              "      <td>First Class</td>\n",
              "      <td>TB-21055</td>\n",
              "      <td>Ted Butterfield</td>\n",
              "      <td>Consumer</td>\n",
              "      <td>United States</td>\n",
              "      <td>Fairfield</td>\n",
              "      <td>...</td>\n",
              "      <td>45014.0</td>\n",
              "      <td>East</td>\n",
              "      <td>OFF-LA-10004484</td>\n",
              "      <td>Office Supplies</td>\n",
              "      <td>Labels</td>\n",
              "      <td>Avery 476</td>\n",
              "      <td>16.520</td>\n",
              "      <td>5</td>\n",
              "      <td>0.2</td>\n",
              "      <td>5.3690</td>\n",
              "    </tr>\n",
              "    <tr>\n",
              "      <th>9982</th>\n",
              "      <td>9983</td>\n",
              "      <td>US-2019-157728</td>\n",
              "      <td>9/22/2019</td>\n",
              "      <td>9/28/2019</td>\n",
              "      <td>Standard Class</td>\n",
              "      <td>RC-19960</td>\n",
              "      <td>Ryan Crowe</td>\n",
              "      <td>Consumer</td>\n",
              "      <td>United States</td>\n",
              "      <td>Grand Rapids</td>\n",
              "      <td>...</td>\n",
              "      <td>49505.0</td>\n",
              "      <td>Central</td>\n",
              "      <td>OFF-PA-10002195</td>\n",
              "      <td>Office Supplies</td>\n",
              "      <td>Paper</td>\n",
              "      <td>RSVP Cards &amp; Envelopes, Blank White, 8-1/2\" X ...</td>\n",
              "      <td>35.560</td>\n",
              "      <td>7</td>\n",
              "      <td>0.0</td>\n",
              "      <td>16.7132</td>\n",
              "    </tr>\n",
              "    <tr>\n",
              "      <th>9983</th>\n",
              "      <td>9984</td>\n",
              "      <td>US-2019-157728</td>\n",
              "      <td>9/22/2019</td>\n",
              "      <td>9/28/2019</td>\n",
              "      <td>Standard Class</td>\n",
              "      <td>RC-19960</td>\n",
              "      <td>Ryan Crowe</td>\n",
              "      <td>Consumer</td>\n",
              "      <td>United States</td>\n",
              "      <td>Grand Rapids</td>\n",
              "      <td>...</td>\n",
              "      <td>49505.0</td>\n",
              "      <td>Central</td>\n",
              "      <td>TEC-PH-10001305</td>\n",
              "      <td>Technology</td>\n",
              "      <td>Phones</td>\n",
              "      <td>Panasonic KX TS208W Corded phone</td>\n",
              "      <td>97.980</td>\n",
              "      <td>2</td>\n",
              "      <td>0.0</td>\n",
              "      <td>27.4344</td>\n",
              "    </tr>\n",
              "    <tr>\n",
              "      <th>9984</th>\n",
              "      <td>9985</td>\n",
              "      <td>CA-2018-100251</td>\n",
              "      <td>5/17/2018</td>\n",
              "      <td>5/23/2018</td>\n",
              "      <td>Standard Class</td>\n",
              "      <td>DV-13465</td>\n",
              "      <td>Dianna Vittorini</td>\n",
              "      <td>Consumer</td>\n",
              "      <td>United States</td>\n",
              "      <td>Long Beach</td>\n",
              "      <td>...</td>\n",
              "      <td>11561.0</td>\n",
              "      <td>East</td>\n",
              "      <td>OFF-LA-10003766</td>\n",
              "      <td>Office Supplies</td>\n",
              "      <td>Labels</td>\n",
              "      <td>Self-Adhesive Removable Labels</td>\n",
              "      <td>31.500</td>\n",
              "      <td>10</td>\n",
              "      <td>0.0</td>\n",
              "      <td>15.1200</td>\n",
              "    </tr>\n",
              "    <tr>\n",
              "      <th>9985</th>\n",
              "      <td>9986</td>\n",
              "      <td>CA-2018-100251</td>\n",
              "      <td>5/17/2018</td>\n",
              "      <td>5/23/2018</td>\n",
              "      <td>Standard Class</td>\n",
              "      <td>DV-13465</td>\n",
              "      <td>Dianna Vittorini</td>\n",
              "      <td>Consumer</td>\n",
              "      <td>United States</td>\n",
              "      <td>Long Beach</td>\n",
              "      <td>...</td>\n",
              "      <td>11561.0</td>\n",
              "      <td>East</td>\n",
              "      <td>OFF-SU-10000898</td>\n",
              "      <td>Office Supplies</td>\n",
              "      <td>Supplies</td>\n",
              "      <td>Acme Hot Forged Carbon Steel Scissors with Nic...</td>\n",
              "      <td>55.600</td>\n",
              "      <td>4</td>\n",
              "      <td>0.0</td>\n",
              "      <td>16.1240</td>\n",
              "    </tr>\n",
              "    <tr>\n",
              "      <th>9986</th>\n",
              "      <td>9987</td>\n",
              "      <td>CA-2019-125794</td>\n",
              "      <td>9/29/2019</td>\n",
              "      <td>10/3/2019</td>\n",
              "      <td>Standard Class</td>\n",
              "      <td>ML-17410</td>\n",
              "      <td>Maris LaWare</td>\n",
              "      <td>Consumer</td>\n",
              "      <td>United States</td>\n",
              "      <td>Los Angeles</td>\n",
              "      <td>...</td>\n",
              "      <td>90008.0</td>\n",
              "      <td>West</td>\n",
              "      <td>TEC-AC-10003399</td>\n",
              "      <td>Technology</td>\n",
              "      <td>Accessories</td>\n",
              "      <td>Memorex Mini Travel Drive 64 GB USB 2.0 Flash ...</td>\n",
              "      <td>36.240</td>\n",
              "      <td>1</td>\n",
              "      <td>0.0</td>\n",
              "      <td>15.2208</td>\n",
              "    </tr>\n",
              "    <tr>\n",
              "      <th>9987</th>\n",
              "      <td>9988</td>\n",
              "      <td>CA-2020-163629</td>\n",
              "      <td>11/17/2020</td>\n",
              "      <td>11/21/2020</td>\n",
              "      <td>Standard Class</td>\n",
              "      <td>RA-19885</td>\n",
              "      <td>Ruben Ausman</td>\n",
              "      <td>Corporate</td>\n",
              "      <td>United States</td>\n",
              "      <td>Athens</td>\n",
              "      <td>...</td>\n",
              "      <td>30605.0</td>\n",
              "      <td>South</td>\n",
              "      <td>TEC-AC-10001539</td>\n",
              "      <td>Technology</td>\n",
              "      <td>Accessories</td>\n",
              "      <td>Logitech G430 Surround Sound Gaming Headset wi...</td>\n",
              "      <td>79.990</td>\n",
              "      <td>1</td>\n",
              "      <td>0.0</td>\n",
              "      <td>28.7964</td>\n",
              "    </tr>\n",
              "    <tr>\n",
              "      <th>9988</th>\n",
              "      <td>9989</td>\n",
              "      <td>CA-2020-163629</td>\n",
              "      <td>11/17/2020</td>\n",
              "      <td>11/21/2020</td>\n",
              "      <td>Standard Class</td>\n",
              "      <td>RA-19885</td>\n",
              "      <td>Ruben Ausman</td>\n",
              "      <td>Corporate</td>\n",
              "      <td>United States</td>\n",
              "      <td>Athens</td>\n",
              "      <td>...</td>\n",
              "      <td>30605.0</td>\n",
              "      <td>South</td>\n",
              "      <td>TEC-PH-10004006</td>\n",
              "      <td>Technology</td>\n",
              "      <td>Phones</td>\n",
              "      <td>Panasonic KX - TS880B Telephone</td>\n",
              "      <td>206.100</td>\n",
              "      <td>5</td>\n",
              "      <td>0.0</td>\n",
              "      <td>55.6470</td>\n",
              "    </tr>\n",
              "    <tr>\n",
              "      <th>9989</th>\n",
              "      <td>9990</td>\n",
              "      <td>CA-2017-110422</td>\n",
              "      <td>1/21/2017</td>\n",
              "      <td>1/23/2017</td>\n",
              "      <td>Second Class</td>\n",
              "      <td>TB-21400</td>\n",
              "      <td>Tom Boeckenhauer</td>\n",
              "      <td>Consumer</td>\n",
              "      <td>United States</td>\n",
              "      <td>Miami</td>\n",
              "      <td>...</td>\n",
              "      <td>33180.0</td>\n",
              "      <td>South</td>\n",
              "      <td>FUR-FU-10001889</td>\n",
              "      <td>Furniture</td>\n",
              "      <td>Furnishings</td>\n",
              "      <td>Ultra Door Pull Handle</td>\n",
              "      <td>25.248</td>\n",
              "      <td>3</td>\n",
              "      <td>0.2</td>\n",
              "      <td>4.1028</td>\n",
              "    </tr>\n",
              "    <tr>\n",
              "      <th>9990</th>\n",
              "      <td>9991</td>\n",
              "      <td>CA-2020-121258</td>\n",
              "      <td>2/26/2020</td>\n",
              "      <td>3/3/2020</td>\n",
              "      <td>Standard Class</td>\n",
              "      <td>DB-13060</td>\n",
              "      <td>Dave Brooks</td>\n",
              "      <td>Consumer</td>\n",
              "      <td>United States</td>\n",
              "      <td>Costa Mesa</td>\n",
              "      <td>...</td>\n",
              "      <td>92627.0</td>\n",
              "      <td>West</td>\n",
              "      <td>FUR-FU-10000747</td>\n",
              "      <td>Furniture</td>\n",
              "      <td>Furnishings</td>\n",
              "      <td>Tenex B1-RE Series Chair Mats for Low Pile Car...</td>\n",
              "      <td>91.960</td>\n",
              "      <td>2</td>\n",
              "      <td>0.0</td>\n",
              "      <td>15.6332</td>\n",
              "    </tr>\n",
              "    <tr>\n",
              "      <th>9991</th>\n",
              "      <td>9992</td>\n",
              "      <td>CA-2020-121258</td>\n",
              "      <td>2/26/2020</td>\n",
              "      <td>3/3/2020</td>\n",
              "      <td>Standard Class</td>\n",
              "      <td>DB-13060</td>\n",
              "      <td>Dave Brooks</td>\n",
              "      <td>Consumer</td>\n",
              "      <td>United States</td>\n",
              "      <td>Costa Mesa</td>\n",
              "      <td>...</td>\n",
              "      <td>92627.0</td>\n",
              "      <td>West</td>\n",
              "      <td>TEC-PH-10003645</td>\n",
              "      <td>Technology</td>\n",
              "      <td>Phones</td>\n",
              "      <td>Aastra 57i VoIP phone</td>\n",
              "      <td>258.576</td>\n",
              "      <td>2</td>\n",
              "      <td>0.2</td>\n",
              "      <td>19.3932</td>\n",
              "    </tr>\n",
              "    <tr>\n",
              "      <th>9992</th>\n",
              "      <td>9993</td>\n",
              "      <td>CA-2020-121258</td>\n",
              "      <td>2/26/2020</td>\n",
              "      <td>3/3/2020</td>\n",
              "      <td>Standard Class</td>\n",
              "      <td>DB-13060</td>\n",
              "      <td>Dave Brooks</td>\n",
              "      <td>Consumer</td>\n",
              "      <td>United States</td>\n",
              "      <td>Costa Mesa</td>\n",
              "      <td>...</td>\n",
              "      <td>92627.0</td>\n",
              "      <td>West</td>\n",
              "      <td>OFF-PA-10004041</td>\n",
              "      <td>Office Supplies</td>\n",
              "      <td>Paper</td>\n",
              "      <td>It's Hot Message Books with Stickers, 2 3/4\" x 5\"</td>\n",
              "      <td>29.600</td>\n",
              "      <td>4</td>\n",
              "      <td>0.0</td>\n",
              "      <td>13.3200</td>\n",
              "    </tr>\n",
              "    <tr>\n",
              "      <th>9993</th>\n",
              "      <td>9994</td>\n",
              "      <td>CA-2020-119914</td>\n",
              "      <td>5/4/2020</td>\n",
              "      <td>5/9/2020</td>\n",
              "      <td>Second Class</td>\n",
              "      <td>CC-12220</td>\n",
              "      <td>Chris Cortes</td>\n",
              "      <td>Consumer</td>\n",
              "      <td>United States</td>\n",
              "      <td>Westminster</td>\n",
              "      <td>...</td>\n",
              "      <td>92683.0</td>\n",
              "      <td>West</td>\n",
              "      <td>OFF-AP-10002684</td>\n",
              "      <td>Office Supplies</td>\n",
              "      <td>Appliances</td>\n",
              "      <td>Acco 7-Outlet Masterpiece Power Center, Wihtou...</td>\n",
              "      <td>243.160</td>\n",
              "      <td>2</td>\n",
              "      <td>0.0</td>\n",
              "      <td>72.9480</td>\n",
              "    </tr>\n",
              "  </tbody>\n",
              "</table>\n",
              "<p>20 rows × 21 columns</p>\n",
              "</div>"
            ]
          },
          "metadata": {},
          "output_type": "display_data"
        }
      ],
      "metadata": {
        "datalore": {
          "node_id": "I9XaiGJkd62AhVEgAwhVIM",
          "type": "CODE",
          "hide_input_from_viewers": false,
          "hide_output_from_viewers": false,
          "report_properties": {
            "rowId": "I5VTdHiYQJ02hvW4qopw9b"
          }
        },
        "id": "H96R5I72AjOG",
        "outputId": "0bb0fd27-bed7-49d5-a463-d112ab6cb1a3"
      }
    },
    {
      "cell_type": "code",
      "source": [
        "# shape of dataframe\n",
        "df.shape"
      ],
      "execution_count": null,
      "outputs": [
        {
          "data": {
            "text/plain": [
              "(9994, 21)"
            ]
          },
          "metadata": {},
          "output_type": "display_data"
        }
      ],
      "metadata": {
        "datalore": {
          "node_id": "wGZgHkK4bMoFmUSiJXYEks",
          "type": "CODE",
          "hide_input_from_viewers": false,
          "hide_output_from_viewers": false,
          "report_properties": {
            "rowId": "Rc6h3h2cwvEhQ2UIP3YDRp"
          }
        },
        "id": "x-YjOrdpAjOH",
        "outputId": "af479157-9b9a-45a6-f0ea-6262049c0576"
      }
    },
    {
      "cell_type": "code",
      "source": [
        "# see data frame information using .info()\n",
        "df.info()"
      ],
      "execution_count": null,
      "outputs": [
        {
          "name": "stdout",
          "text": [
            "<class 'pandas.core.frame.DataFrame'>\n",
            "RangeIndex: 9994 entries, 0 to 9993\n",
            "Data columns (total 21 columns):\n",
            " #   Column          Non-Null Count  Dtype  \n",
            "---  ------          --------------  -----  \n",
            " 0   Row ID          9994 non-null   int64  \n",
            " 1   Order ID        9994 non-null   object \n",
            " 2   Order Date      9994 non-null   object \n",
            " 3   Ship Date       9994 non-null   object \n",
            " 4   Ship Mode       9994 non-null   object \n",
            " 5   Customer ID     9994 non-null   object \n",
            " 6   Customer Name   9994 non-null   object \n",
            " 7   Segment         9994 non-null   object \n",
            " 8   Country/Region  9994 non-null   object \n",
            " 9   City            9994 non-null   object \n",
            " 10  State           9994 non-null   object \n",
            " 11  Postal Code     9983 non-null   float64\n",
            " 12  Region          9994 non-null   object \n",
            " 13  Product ID      9994 non-null   object \n",
            " 14  Category        9994 non-null   object \n",
            " 15  Sub-Category    9994 non-null   object \n",
            " 16  Product Name    9994 non-null   object \n",
            " 17  Sales           9994 non-null   float64\n",
            " 18  Quantity        9994 non-null   int64  \n",
            " 19  Discount        9994 non-null   float64\n",
            " 20  Profit          9994 non-null   float64\n",
            "dtypes: float64(4), int64(2), object(15)\n",
            "memory usage: 1.6+ MB\n"
          ],
          "output_type": "stream"
        }
      ],
      "metadata": {
        "datalore": {
          "node_id": "a7FBZWVEPMXp1TvzEjkvvQ",
          "type": "CODE",
          "hide_input_from_viewers": false,
          "hide_output_from_viewers": false,
          "report_properties": {
            "rowId": "AxKZxDigeWcgALpxsbUaWu"
          }
        },
        "id": "DRZwf55WAjOI",
        "outputId": "5f35eeef-e978-4b11-b6fa-cd347e37c0c8"
      }
    },
    {
      "cell_type": "markdown",
      "source": [
        "We can use `pd.to_datetime()` function to convert columns 'Order Date' and 'Ship Date' to datetime."
      ],
      "metadata": {
        "datalore": {
          "node_id": "v7HDTqSDDSYq9kuzGHHp5b",
          "type": "MD",
          "hide_input_from_viewers": false,
          "hide_output_from_viewers": false,
          "report_properties": {
            "rowId": "nAZYNojgKiTgty4xrwNwXA"
          }
        },
        "id": "jn-RAJgjAjOI"
      }
    },
    {
      "cell_type": "code",
      "source": [
        "# example of pd.to_datetime() function\n",
        "pd.to_datetime(df['Order Date'], format='%m/%d/%Y')"
      ],
      "execution_count": null,
      "outputs": [
        {
          "data": {
            "text/html": [
              "<pre>0      2019-11-08\n",
              "1      2019-11-08\n",
              "2      2019-06-12\n",
              "3      2018-10-11\n",
              "4      2018-10-11\n",
              "          ...    \n",
              "9989   2017-01-21\n",
              "9990   2020-02-26\n",
              "9991   2020-02-26\n",
              "9992   2020-02-26\n",
              "9993   2020-05-04\n",
              "Name: Order Date, Length: 9994, dtype: datetime64[ns]</pre>"
            ]
          },
          "metadata": {},
          "output_type": "display_data"
        }
      ],
      "metadata": {
        "datalore": {
          "node_id": "R0xiiInYyBdeV1iqTU5ZK8",
          "type": "CODE",
          "hide_input_from_viewers": false,
          "hide_output_from_viewers": false,
          "report_properties": {
            "rowId": "p4alpQJ9xd2532cErgXAv8"
          }
        },
        "id": "G3CyyECSAjOI",
        "outputId": "b6a893ea-b91d-426b-e169-e2e6ff8759d0"
      }
    },
    {
      "cell_type": "code",
      "source": [
        "pd.to_datetime(df[\"Ship Date\"], format=\"%m/%d/%Y\")"
      ],
      "execution_count": null,
      "outputs": [
        {
          "data": {
            "text/html": [
              "<pre>0      2019-11-11\n",
              "1      2019-11-11\n",
              "2      2019-06-16\n",
              "3      2018-10-18\n",
              "4      2018-10-18\n",
              "          ...    \n",
              "9989   2017-01-23\n",
              "9990   2020-03-03\n",
              "9991   2020-03-03\n",
              "9992   2020-03-03\n",
              "9993   2020-05-09\n",
              "Name: Ship Date, Length: 9994, dtype: datetime64[ns]</pre>"
            ]
          },
          "metadata": {},
          "output_type": "display_data"
        }
      ],
      "metadata": {
        "datalore": {
          "node_id": "gqF2EMGcFmfihAVdTWZfi6",
          "type": "CODE",
          "hide_input_from_viewers": true,
          "hide_output_from_viewers": true
        },
        "id": "o3XOhJ0zAjOI",
        "outputId": "5a047715-ded3-4326-c4c5-f3264d5692dc"
      }
    },
    {
      "cell_type": "code",
      "source": [
        "# TODO - convert order date and ship date to datetime in the original dataframe\n",
        "\n",
        "df[\"Order Date\"] = pd.to_datetime(df['Order Date'], format='%m/%d/%Y')\n",
        "df[\"Ship Date\"] = pd.to_datetime(df[\"Ship Date\"], format=\"%m/%d/%Y\")\n",
        "df"
      ],
      "execution_count": null,
      "outputs": [
        {
          "data": {
            "text/html": [
              "<div>\n",
              "<style scoped>\n",
              "    .dataframe tbody tr th:only-of-type {\n",
              "        vertical-align: middle;\n",
              "    }\n",
              "\n",
              "    .dataframe tbody tr th {\n",
              "        vertical-align: top;\n",
              "    }\n",
              "\n",
              "    .dataframe thead th {\n",
              "        text-align: right;\n",
              "    }\n",
              "</style>\n",
              "<table border=\"1\" class=\"dataframe\">\n",
              "  <thead>\n",
              "    <tr style=\"text-align: right;\">\n",
              "      <th></th>\n",
              "      <th>Row ID</th>\n",
              "      <th>Order ID</th>\n",
              "      <th>Order Date</th>\n",
              "      <th>Ship Date</th>\n",
              "      <th>Ship Mode</th>\n",
              "      <th>Customer ID</th>\n",
              "      <th>Customer Name</th>\n",
              "      <th>Segment</th>\n",
              "      <th>Country/Region</th>\n",
              "      <th>City</th>\n",
              "      <th>...</th>\n",
              "      <th>Postal Code</th>\n",
              "      <th>Region</th>\n",
              "      <th>Product ID</th>\n",
              "      <th>Category</th>\n",
              "      <th>Sub-Category</th>\n",
              "      <th>Product Name</th>\n",
              "      <th>Sales</th>\n",
              "      <th>Quantity</th>\n",
              "      <th>Discount</th>\n",
              "      <th>Profit</th>\n",
              "    </tr>\n",
              "  </thead>\n",
              "  <tbody>\n",
              "    <tr>\n",
              "      <th>0</th>\n",
              "      <td>1</td>\n",
              "      <td>CA-2019-152156</td>\n",
              "      <td>2019-11-08</td>\n",
              "      <td>2019-11-11</td>\n",
              "      <td>Second Class</td>\n",
              "      <td>CG-12520</td>\n",
              "      <td>Claire Gute</td>\n",
              "      <td>Consumer</td>\n",
              "      <td>United States</td>\n",
              "      <td>Henderson</td>\n",
              "      <td>...</td>\n",
              "      <td>42420.0</td>\n",
              "      <td>South</td>\n",
              "      <td>FUR-BO-10001798</td>\n",
              "      <td>Furniture</td>\n",
              "      <td>Bookcases</td>\n",
              "      <td>Bush Somerset Collection Bookcase</td>\n",
              "      <td>261.9600</td>\n",
              "      <td>2</td>\n",
              "      <td>0.00</td>\n",
              "      <td>41.9136</td>\n",
              "    </tr>\n",
              "    <tr>\n",
              "      <th>1</th>\n",
              "      <td>2</td>\n",
              "      <td>CA-2019-152156</td>\n",
              "      <td>2019-11-08</td>\n",
              "      <td>2019-11-11</td>\n",
              "      <td>Second Class</td>\n",
              "      <td>CG-12520</td>\n",
              "      <td>Claire Gute</td>\n",
              "      <td>Consumer</td>\n",
              "      <td>United States</td>\n",
              "      <td>Henderson</td>\n",
              "      <td>...</td>\n",
              "      <td>42420.0</td>\n",
              "      <td>South</td>\n",
              "      <td>FUR-CH-10000454</td>\n",
              "      <td>Furniture</td>\n",
              "      <td>Chairs</td>\n",
              "      <td>Hon Deluxe Fabric Upholstered Stacking Chairs,...</td>\n",
              "      <td>731.9400</td>\n",
              "      <td>3</td>\n",
              "      <td>0.00</td>\n",
              "      <td>219.5820</td>\n",
              "    </tr>\n",
              "    <tr>\n",
              "      <th>2</th>\n",
              "      <td>3</td>\n",
              "      <td>CA-2019-138688</td>\n",
              "      <td>2019-06-12</td>\n",
              "      <td>2019-06-16</td>\n",
              "      <td>Second Class</td>\n",
              "      <td>DV-13045</td>\n",
              "      <td>Darrin Van Huff</td>\n",
              "      <td>Corporate</td>\n",
              "      <td>United States</td>\n",
              "      <td>Los Angeles</td>\n",
              "      <td>...</td>\n",
              "      <td>90036.0</td>\n",
              "      <td>West</td>\n",
              "      <td>OFF-LA-10000240</td>\n",
              "      <td>Office Supplies</td>\n",
              "      <td>Labels</td>\n",
              "      <td>Self-Adhesive Address Labels for Typewriters b...</td>\n",
              "      <td>14.6200</td>\n",
              "      <td>2</td>\n",
              "      <td>0.00</td>\n",
              "      <td>6.8714</td>\n",
              "    </tr>\n",
              "    <tr>\n",
              "      <th>3</th>\n",
              "      <td>4</td>\n",
              "      <td>US-2018-108966</td>\n",
              "      <td>2018-10-11</td>\n",
              "      <td>2018-10-18</td>\n",
              "      <td>Standard Class</td>\n",
              "      <td>SO-20335</td>\n",
              "      <td>Sean O'Donnell</td>\n",
              "      <td>Consumer</td>\n",
              "      <td>United States</td>\n",
              "      <td>Fort Lauderdale</td>\n",
              "      <td>...</td>\n",
              "      <td>33311.0</td>\n",
              "      <td>South</td>\n",
              "      <td>FUR-TA-10000577</td>\n",
              "      <td>Furniture</td>\n",
              "      <td>Tables</td>\n",
              "      <td>Bretford CR4500 Series Slim Rectangular Table</td>\n",
              "      <td>957.5775</td>\n",
              "      <td>5</td>\n",
              "      <td>0.45</td>\n",
              "      <td>-383.0310</td>\n",
              "    </tr>\n",
              "    <tr>\n",
              "      <th>4</th>\n",
              "      <td>5</td>\n",
              "      <td>US-2018-108966</td>\n",
              "      <td>2018-10-11</td>\n",
              "      <td>2018-10-18</td>\n",
              "      <td>Standard Class</td>\n",
              "      <td>SO-20335</td>\n",
              "      <td>Sean O'Donnell</td>\n",
              "      <td>Consumer</td>\n",
              "      <td>United States</td>\n",
              "      <td>Fort Lauderdale</td>\n",
              "      <td>...</td>\n",
              "      <td>33311.0</td>\n",
              "      <td>South</td>\n",
              "      <td>OFF-ST-10000760</td>\n",
              "      <td>Office Supplies</td>\n",
              "      <td>Storage</td>\n",
              "      <td>Eldon Fold 'N Roll Cart System</td>\n",
              "      <td>22.3680</td>\n",
              "      <td>2</td>\n",
              "      <td>0.20</td>\n",
              "      <td>2.5164</td>\n",
              "    </tr>\n",
              "    <tr>\n",
              "      <th>...</th>\n",
              "      <td>...</td>\n",
              "      <td>...</td>\n",
              "      <td>...</td>\n",
              "      <td>...</td>\n",
              "      <td>...</td>\n",
              "      <td>...</td>\n",
              "      <td>...</td>\n",
              "      <td>...</td>\n",
              "      <td>...</td>\n",
              "      <td>...</td>\n",
              "      <td>...</td>\n",
              "      <td>...</td>\n",
              "      <td>...</td>\n",
              "      <td>...</td>\n",
              "      <td>...</td>\n",
              "      <td>...</td>\n",
              "      <td>...</td>\n",
              "      <td>...</td>\n",
              "      <td>...</td>\n",
              "      <td>...</td>\n",
              "      <td>...</td>\n",
              "    </tr>\n",
              "    <tr>\n",
              "      <th>9989</th>\n",
              "      <td>9990</td>\n",
              "      <td>CA-2017-110422</td>\n",
              "      <td>2017-01-21</td>\n",
              "      <td>2017-01-23</td>\n",
              "      <td>Second Class</td>\n",
              "      <td>TB-21400</td>\n",
              "      <td>Tom Boeckenhauer</td>\n",
              "      <td>Consumer</td>\n",
              "      <td>United States</td>\n",
              "      <td>Miami</td>\n",
              "      <td>...</td>\n",
              "      <td>33180.0</td>\n",
              "      <td>South</td>\n",
              "      <td>FUR-FU-10001889</td>\n",
              "      <td>Furniture</td>\n",
              "      <td>Furnishings</td>\n",
              "      <td>Ultra Door Pull Handle</td>\n",
              "      <td>25.2480</td>\n",
              "      <td>3</td>\n",
              "      <td>0.20</td>\n",
              "      <td>4.1028</td>\n",
              "    </tr>\n",
              "    <tr>\n",
              "      <th>9990</th>\n",
              "      <td>9991</td>\n",
              "      <td>CA-2020-121258</td>\n",
              "      <td>2020-02-26</td>\n",
              "      <td>2020-03-03</td>\n",
              "      <td>Standard Class</td>\n",
              "      <td>DB-13060</td>\n",
              "      <td>Dave Brooks</td>\n",
              "      <td>Consumer</td>\n",
              "      <td>United States</td>\n",
              "      <td>Costa Mesa</td>\n",
              "      <td>...</td>\n",
              "      <td>92627.0</td>\n",
              "      <td>West</td>\n",
              "      <td>FUR-FU-10000747</td>\n",
              "      <td>Furniture</td>\n",
              "      <td>Furnishings</td>\n",
              "      <td>Tenex B1-RE Series Chair Mats for Low Pile Car...</td>\n",
              "      <td>91.9600</td>\n",
              "      <td>2</td>\n",
              "      <td>0.00</td>\n",
              "      <td>15.6332</td>\n",
              "    </tr>\n",
              "    <tr>\n",
              "      <th>9991</th>\n",
              "      <td>9992</td>\n",
              "      <td>CA-2020-121258</td>\n",
              "      <td>2020-02-26</td>\n",
              "      <td>2020-03-03</td>\n",
              "      <td>Standard Class</td>\n",
              "      <td>DB-13060</td>\n",
              "      <td>Dave Brooks</td>\n",
              "      <td>Consumer</td>\n",
              "      <td>United States</td>\n",
              "      <td>Costa Mesa</td>\n",
              "      <td>...</td>\n",
              "      <td>92627.0</td>\n",
              "      <td>West</td>\n",
              "      <td>TEC-PH-10003645</td>\n",
              "      <td>Technology</td>\n",
              "      <td>Phones</td>\n",
              "      <td>Aastra 57i VoIP phone</td>\n",
              "      <td>258.5760</td>\n",
              "      <td>2</td>\n",
              "      <td>0.20</td>\n",
              "      <td>19.3932</td>\n",
              "    </tr>\n",
              "    <tr>\n",
              "      <th>9992</th>\n",
              "      <td>9993</td>\n",
              "      <td>CA-2020-121258</td>\n",
              "      <td>2020-02-26</td>\n",
              "      <td>2020-03-03</td>\n",
              "      <td>Standard Class</td>\n",
              "      <td>DB-13060</td>\n",
              "      <td>Dave Brooks</td>\n",
              "      <td>Consumer</td>\n",
              "      <td>United States</td>\n",
              "      <td>Costa Mesa</td>\n",
              "      <td>...</td>\n",
              "      <td>92627.0</td>\n",
              "      <td>West</td>\n",
              "      <td>OFF-PA-10004041</td>\n",
              "      <td>Office Supplies</td>\n",
              "      <td>Paper</td>\n",
              "      <td>It's Hot Message Books with Stickers, 2 3/4\" x 5\"</td>\n",
              "      <td>29.6000</td>\n",
              "      <td>4</td>\n",
              "      <td>0.00</td>\n",
              "      <td>13.3200</td>\n",
              "    </tr>\n",
              "    <tr>\n",
              "      <th>9993</th>\n",
              "      <td>9994</td>\n",
              "      <td>CA-2020-119914</td>\n",
              "      <td>2020-05-04</td>\n",
              "      <td>2020-05-09</td>\n",
              "      <td>Second Class</td>\n",
              "      <td>CC-12220</td>\n",
              "      <td>Chris Cortes</td>\n",
              "      <td>Consumer</td>\n",
              "      <td>United States</td>\n",
              "      <td>Westminster</td>\n",
              "      <td>...</td>\n",
              "      <td>92683.0</td>\n",
              "      <td>West</td>\n",
              "      <td>OFF-AP-10002684</td>\n",
              "      <td>Office Supplies</td>\n",
              "      <td>Appliances</td>\n",
              "      <td>Acco 7-Outlet Masterpiece Power Center, Wihtou...</td>\n",
              "      <td>243.1600</td>\n",
              "      <td>2</td>\n",
              "      <td>0.00</td>\n",
              "      <td>72.9480</td>\n",
              "    </tr>\n",
              "  </tbody>\n",
              "</table>\n",
              "<p>9994 rows × 21 columns</p>\n",
              "</div>"
            ]
          },
          "metadata": {},
          "output_type": "display_data"
        }
      ],
      "metadata": {
        "datalore": {
          "node_id": "phmKXm8DdLeLw552snf31e",
          "type": "CODE",
          "hide_input_from_viewers": false,
          "hide_output_from_viewers": false,
          "report_properties": {
            "rowId": "xnoYqd1Y7GAr1agrd9a6VB"
          }
        },
        "id": "sxHAM0BbAjOJ",
        "outputId": "ed1efea4-3fc9-489b-9ff6-6c151d43cad1"
      }
    },
    {
      "cell_type": "code",
      "source": [
        "# TODO - count nan in postal code column\n",
        "postal_nan = df[\"Postal Code\"].isna().sum()\n",
        "print(f\"The nan in Postal Code is : {postal_nan}\")"
      ],
      "execution_count": null,
      "outputs": [
        {
          "name": "stdout",
          "text": [
            "The nan in Postal Code is : 11\n"
          ],
          "output_type": "stream"
        }
      ],
      "metadata": {
        "datalore": {
          "node_id": "4pkBcSn1sG319x5q1GN42k",
          "type": "CODE",
          "hide_input_from_viewers": false,
          "hide_output_from_viewers": false,
          "report_properties": {
            "rowId": "fKJPD5tme4MMhBNjbeTW8a"
          }
        },
        "id": "fbdF8JunAjOJ",
        "outputId": "f12575d9-7e06-4d91-c6fc-f78b709c4edc"
      }
    },
    {
      "cell_type": "code",
      "source": [
        "# TODO - filter rows with missing values\n",
        "df[df[\"Postal Code\"].isna()]"
      ],
      "execution_count": null,
      "outputs": [
        {
          "data": {
            "text/html": [
              "<div>\n",
              "<style scoped>\n",
              "    .dataframe tbody tr th:only-of-type {\n",
              "        vertical-align: middle;\n",
              "    }\n",
              "\n",
              "    .dataframe tbody tr th {\n",
              "        vertical-align: top;\n",
              "    }\n",
              "\n",
              "    .dataframe thead th {\n",
              "        text-align: right;\n",
              "    }\n",
              "</style>\n",
              "<table border=\"1\" class=\"dataframe\">\n",
              "  <thead>\n",
              "    <tr style=\"text-align: right;\">\n",
              "      <th></th>\n",
              "      <th>Row ID</th>\n",
              "      <th>Order ID</th>\n",
              "      <th>Order Date</th>\n",
              "      <th>Ship Date</th>\n",
              "      <th>Ship Mode</th>\n",
              "      <th>Customer ID</th>\n",
              "      <th>Customer Name</th>\n",
              "      <th>Segment</th>\n",
              "      <th>Country/Region</th>\n",
              "      <th>City</th>\n",
              "      <th>...</th>\n",
              "      <th>Postal Code</th>\n",
              "      <th>Region</th>\n",
              "      <th>Product ID</th>\n",
              "      <th>Category</th>\n",
              "      <th>Sub-Category</th>\n",
              "      <th>Product Name</th>\n",
              "      <th>Sales</th>\n",
              "      <th>Quantity</th>\n",
              "      <th>Discount</th>\n",
              "      <th>Profit</th>\n",
              "    </tr>\n",
              "  </thead>\n",
              "  <tbody>\n",
              "    <tr>\n",
              "      <th>2234</th>\n",
              "      <td>2235</td>\n",
              "      <td>CA-2020-104066</td>\n",
              "      <td>2020-12-05</td>\n",
              "      <td>2020-12-10</td>\n",
              "      <td>Standard Class</td>\n",
              "      <td>QJ-19255</td>\n",
              "      <td>Quincy Jones</td>\n",
              "      <td>Corporate</td>\n",
              "      <td>United States</td>\n",
              "      <td>Burlington</td>\n",
              "      <td>...</td>\n",
              "      <td>NaN</td>\n",
              "      <td>East</td>\n",
              "      <td>TEC-AC-10001013</td>\n",
              "      <td>Technology</td>\n",
              "      <td>Accessories</td>\n",
              "      <td>Logitech ClearChat Comfort/USB Headset H390</td>\n",
              "      <td>205.03</td>\n",
              "      <td>7</td>\n",
              "      <td>0.0</td>\n",
              "      <td>67.6599</td>\n",
              "    </tr>\n",
              "    <tr>\n",
              "      <th>5274</th>\n",
              "      <td>5275</td>\n",
              "      <td>CA-2018-162887</td>\n",
              "      <td>2018-11-07</td>\n",
              "      <td>2018-11-09</td>\n",
              "      <td>Second Class</td>\n",
              "      <td>SV-20785</td>\n",
              "      <td>Stewart Visinsky</td>\n",
              "      <td>Consumer</td>\n",
              "      <td>United States</td>\n",
              "      <td>Burlington</td>\n",
              "      <td>...</td>\n",
              "      <td>NaN</td>\n",
              "      <td>East</td>\n",
              "      <td>FUR-CH-10000595</td>\n",
              "      <td>Furniture</td>\n",
              "      <td>Chairs</td>\n",
              "      <td>Safco Contoured Stacking Chairs</td>\n",
              "      <td>715.20</td>\n",
              "      <td>3</td>\n",
              "      <td>0.0</td>\n",
              "      <td>178.8000</td>\n",
              "    </tr>\n",
              "    <tr>\n",
              "      <th>8798</th>\n",
              "      <td>8799</td>\n",
              "      <td>US-2019-150140</td>\n",
              "      <td>2019-04-06</td>\n",
              "      <td>2019-04-10</td>\n",
              "      <td>Standard Class</td>\n",
              "      <td>VM-21685</td>\n",
              "      <td>Valerie Mitchum</td>\n",
              "      <td>Home Office</td>\n",
              "      <td>United States</td>\n",
              "      <td>Burlington</td>\n",
              "      <td>...</td>\n",
              "      <td>NaN</td>\n",
              "      <td>East</td>\n",
              "      <td>TEC-PH-10002555</td>\n",
              "      <td>Technology</td>\n",
              "      <td>Phones</td>\n",
              "      <td>Nortel Meridian M5316 Digital phone</td>\n",
              "      <td>1294.75</td>\n",
              "      <td>5</td>\n",
              "      <td>0.0</td>\n",
              "      <td>336.6350</td>\n",
              "    </tr>\n",
              "    <tr>\n",
              "      <th>9146</th>\n",
              "      <td>9147</td>\n",
              "      <td>US-2019-165505</td>\n",
              "      <td>2019-01-23</td>\n",
              "      <td>2019-01-27</td>\n",
              "      <td>Standard Class</td>\n",
              "      <td>CB-12535</td>\n",
              "      <td>Claudia Bergmann</td>\n",
              "      <td>Corporate</td>\n",
              "      <td>United States</td>\n",
              "      <td>Burlington</td>\n",
              "      <td>...</td>\n",
              "      <td>NaN</td>\n",
              "      <td>East</td>\n",
              "      <td>TEC-AC-10002926</td>\n",
              "      <td>Technology</td>\n",
              "      <td>Accessories</td>\n",
              "      <td>Logitech Wireless Marathon Mouse M705</td>\n",
              "      <td>99.98</td>\n",
              "      <td>2</td>\n",
              "      <td>0.0</td>\n",
              "      <td>42.9914</td>\n",
              "    </tr>\n",
              "    <tr>\n",
              "      <th>9147</th>\n",
              "      <td>9148</td>\n",
              "      <td>US-2019-165505</td>\n",
              "      <td>2019-01-23</td>\n",
              "      <td>2019-01-27</td>\n",
              "      <td>Standard Class</td>\n",
              "      <td>CB-12535</td>\n",
              "      <td>Claudia Bergmann</td>\n",
              "      <td>Corporate</td>\n",
              "      <td>United States</td>\n",
              "      <td>Burlington</td>\n",
              "      <td>...</td>\n",
              "      <td>NaN</td>\n",
              "      <td>East</td>\n",
              "      <td>OFF-AR-10003477</td>\n",
              "      <td>Office Supplies</td>\n",
              "      <td>Art</td>\n",
              "      <td>4009 Highlighters</td>\n",
              "      <td>8.04</td>\n",
              "      <td>6</td>\n",
              "      <td>0.0</td>\n",
              "      <td>2.7336</td>\n",
              "    </tr>\n",
              "    <tr>\n",
              "      <th>9148</th>\n",
              "      <td>9149</td>\n",
              "      <td>US-2019-165505</td>\n",
              "      <td>2019-01-23</td>\n",
              "      <td>2019-01-27</td>\n",
              "      <td>Standard Class</td>\n",
              "      <td>CB-12535</td>\n",
              "      <td>Claudia Bergmann</td>\n",
              "      <td>Corporate</td>\n",
              "      <td>United States</td>\n",
              "      <td>Burlington</td>\n",
              "      <td>...</td>\n",
              "      <td>NaN</td>\n",
              "      <td>East</td>\n",
              "      <td>OFF-ST-10001526</td>\n",
              "      <td>Office Supplies</td>\n",
              "      <td>Storage</td>\n",
              "      <td>Iceberg Mobile Mega Data/Printer Cart</td>\n",
              "      <td>1564.29</td>\n",
              "      <td>13</td>\n",
              "      <td>0.0</td>\n",
              "      <td>406.7154</td>\n",
              "    </tr>\n",
              "    <tr>\n",
              "      <th>9386</th>\n",
              "      <td>9387</td>\n",
              "      <td>US-2020-127292</td>\n",
              "      <td>2020-01-19</td>\n",
              "      <td>2020-01-23</td>\n",
              "      <td>Standard Class</td>\n",
              "      <td>RM-19375</td>\n",
              "      <td>Raymond Messe</td>\n",
              "      <td>Consumer</td>\n",
              "      <td>United States</td>\n",
              "      <td>Burlington</td>\n",
              "      <td>...</td>\n",
              "      <td>NaN</td>\n",
              "      <td>East</td>\n",
              "      <td>OFF-PA-10000157</td>\n",
              "      <td>Office Supplies</td>\n",
              "      <td>Paper</td>\n",
              "      <td>Xerox 191</td>\n",
              "      <td>79.92</td>\n",
              "      <td>4</td>\n",
              "      <td>0.0</td>\n",
              "      <td>37.5624</td>\n",
              "    </tr>\n",
              "    <tr>\n",
              "      <th>9387</th>\n",
              "      <td>9388</td>\n",
              "      <td>US-2020-127292</td>\n",
              "      <td>2020-01-19</td>\n",
              "      <td>2020-01-23</td>\n",
              "      <td>Standard Class</td>\n",
              "      <td>RM-19375</td>\n",
              "      <td>Raymond Messe</td>\n",
              "      <td>Consumer</td>\n",
              "      <td>United States</td>\n",
              "      <td>Burlington</td>\n",
              "      <td>...</td>\n",
              "      <td>NaN</td>\n",
              "      <td>East</td>\n",
              "      <td>OFF-PA-10001970</td>\n",
              "      <td>Office Supplies</td>\n",
              "      <td>Paper</td>\n",
              "      <td>Xerox 1881</td>\n",
              "      <td>12.28</td>\n",
              "      <td>1</td>\n",
              "      <td>0.0</td>\n",
              "      <td>5.7716</td>\n",
              "    </tr>\n",
              "    <tr>\n",
              "      <th>9388</th>\n",
              "      <td>9389</td>\n",
              "      <td>US-2020-127292</td>\n",
              "      <td>2020-01-19</td>\n",
              "      <td>2020-01-23</td>\n",
              "      <td>Standard Class</td>\n",
              "      <td>RM-19375</td>\n",
              "      <td>Raymond Messe</td>\n",
              "      <td>Consumer</td>\n",
              "      <td>United States</td>\n",
              "      <td>Burlington</td>\n",
              "      <td>...</td>\n",
              "      <td>NaN</td>\n",
              "      <td>East</td>\n",
              "      <td>OFF-AP-10000828</td>\n",
              "      <td>Office Supplies</td>\n",
              "      <td>Appliances</td>\n",
              "      <td>Avanti 4.4 Cu. Ft. Refrigerator</td>\n",
              "      <td>542.94</td>\n",
              "      <td>3</td>\n",
              "      <td>0.0</td>\n",
              "      <td>152.0232</td>\n",
              "    </tr>\n",
              "    <tr>\n",
              "      <th>9389</th>\n",
              "      <td>9390</td>\n",
              "      <td>US-2020-127292</td>\n",
              "      <td>2020-01-19</td>\n",
              "      <td>2020-01-23</td>\n",
              "      <td>Standard Class</td>\n",
              "      <td>RM-19375</td>\n",
              "      <td>Raymond Messe</td>\n",
              "      <td>Consumer</td>\n",
              "      <td>United States</td>\n",
              "      <td>Burlington</td>\n",
              "      <td>...</td>\n",
              "      <td>NaN</td>\n",
              "      <td>East</td>\n",
              "      <td>OFF-EN-10001509</td>\n",
              "      <td>Office Supplies</td>\n",
              "      <td>Envelopes</td>\n",
              "      <td>Poly String Tie Envelopes</td>\n",
              "      <td>2.04</td>\n",
              "      <td>1</td>\n",
              "      <td>0.0</td>\n",
              "      <td>0.9588</td>\n",
              "    </tr>\n",
              "    <tr>\n",
              "      <th>9741</th>\n",
              "      <td>9742</td>\n",
              "      <td>CA-2018-117086</td>\n",
              "      <td>2018-11-08</td>\n",
              "      <td>2018-11-12</td>\n",
              "      <td>Standard Class</td>\n",
              "      <td>QJ-19255</td>\n",
              "      <td>Quincy Jones</td>\n",
              "      <td>Corporate</td>\n",
              "      <td>United States</td>\n",
              "      <td>Burlington</td>\n",
              "      <td>...</td>\n",
              "      <td>NaN</td>\n",
              "      <td>East</td>\n",
              "      <td>FUR-BO-10004834</td>\n",
              "      <td>Furniture</td>\n",
              "      <td>Bookcases</td>\n",
              "      <td>Riverside Palais Royal Lawyers Bookcase, Royal...</td>\n",
              "      <td>4404.90</td>\n",
              "      <td>5</td>\n",
              "      <td>0.0</td>\n",
              "      <td>1013.1270</td>\n",
              "    </tr>\n",
              "  </tbody>\n",
              "</table>\n",
              "<p>11 rows × 21 columns</p>\n",
              "</div>"
            ]
          },
          "metadata": {},
          "output_type": "display_data"
        }
      ],
      "metadata": {
        "datalore": {
          "node_id": "yvh2Ztpf0GNM48YGSaaujX",
          "type": "CODE",
          "hide_input_from_viewers": false,
          "hide_output_from_viewers": false,
          "report_properties": {
            "rowId": "5XvQugoDbIRKk6hb3gY29f"
          }
        },
        "id": "w0KyZC5lAjOJ",
        "outputId": "4ddb3f3e-28e0-49ad-ad3d-42837716ace4"
      }
    },
    {
      "cell_type": "code",
      "source": [
        "# TODO - Explore this dataset on your owns, ask your own questions\n",
        "\n",
        "# How many is the all sales and Profit?\n",
        "all_sales = df[\"Sales\"].sum()\n",
        "all_profits = df[\"Profit\"].sum()\n",
        "print(f\"The whole all sales is {all_sales} \\nThe all Profit is {all_profits}\")"
      ],
      "execution_count": null,
      "outputs": [
        {
          "name": "stdout",
          "text": [
            "The whole all sales is 2297200.8603000003 \n",
            "The all Profit is 286397.0217\n"
          ],
          "output_type": "stream"
        }
      ],
      "metadata": {
        "datalore": {
          "node_id": "3eXH3qlLxWjC7SLP6sNgXw",
          "type": "CODE",
          "hide_input_from_viewers": false,
          "hide_output_from_viewers": false,
          "report_properties": {
            "rowId": "wlv2RUXm4UIID09jUIa7fN"
          }
        },
        "id": "L0Cmbr0HAjOJ",
        "outputId": "9f8db95e-e50a-4336-81a0-395396b0c40d"
      }
    },
    {
      "cell_type": "code",
      "source": [
        "# TODO - Explore this dataset on your owns, ask your own questions\n",
        "\n",
        "# What region is the top sales?\n",
        "\n",
        "df.groupby(\"Region\")[\"Sales\"].sum().nlargest(1).reset_index()"
      ],
      "execution_count": null,
      "outputs": [
        {
          "data": {
            "text/html": [
              "<div>\n",
              "<style scoped>\n",
              "    .dataframe tbody tr th:only-of-type {\n",
              "        vertical-align: middle;\n",
              "    }\n",
              "\n",
              "    .dataframe tbody tr th {\n",
              "        vertical-align: top;\n",
              "    }\n",
              "\n",
              "    .dataframe thead th {\n",
              "        text-align: right;\n",
              "    }\n",
              "</style>\n",
              "<table border=\"1\" class=\"dataframe\">\n",
              "  <thead>\n",
              "    <tr style=\"text-align: right;\">\n",
              "      <th></th>\n",
              "      <th>Region</th>\n",
              "      <th>Sales</th>\n",
              "    </tr>\n",
              "  </thead>\n",
              "  <tbody>\n",
              "    <tr>\n",
              "      <th>0</th>\n",
              "      <td>West</td>\n",
              "      <td>725457.8245</td>\n",
              "    </tr>\n",
              "  </tbody>\n",
              "</table>\n",
              "</div>"
            ]
          },
          "metadata": {},
          "output_type": "display_data"
        }
      ],
      "metadata": {
        "datalore": {
          "node_id": "vvsl09YeJT0Jdn2JGw1Eoz",
          "type": "CODE",
          "hide_input_from_viewers": true,
          "hide_output_from_viewers": true
        },
        "id": "l-156ExcAjOK",
        "outputId": "88ab6383-7d76-414f-931e-1f72a3b19e3d"
      }
    },
    {
      "cell_type": "markdown",
      "source": [
        "## Data Analysis Part\n",
        "\n",
        "Answer 10 below questions to get credit from this course. Write `pandas` code to find answers."
      ],
      "metadata": {
        "datalore": {
          "node_id": "5kr3t5RYqN1t56fwuQFuBk",
          "type": "MD",
          "hide_input_from_viewers": false,
          "hide_output_from_viewers": false,
          "report_properties": {
            "rowId": "yFun4ipzLlx5tiwvBOQu1R"
          }
        },
        "id": "W84EdbhsAjOK"
      }
    },
    {
      "cell_type": "code",
      "source": [
        "# TODO 01 - how many columns, rows in this dataset\n",
        "\n",
        "df.shape[0]\n",
        "df.shape[1]\n",
        "print(f\"There are {df.shape[0]} columns \\nThere are {df.shape[1]} rows\")"
      ],
      "execution_count": null,
      "outputs": [
        {
          "name": "stdout",
          "text": [
            "There are 9994 columns \n",
            "There are 21 rows\n"
          ],
          "output_type": "stream"
        }
      ],
      "metadata": {
        "datalore": {
          "node_id": "PLkWk7WfATvJGKlwP6yyEx",
          "type": "CODE",
          "hide_input_from_viewers": false,
          "hide_output_from_viewers": false,
          "report_properties": {
            "rowId": "2dWnP8UhZ3SAmTNvknuOoi"
          }
        },
        "id": "gvm13CfFAjOK",
        "outputId": "ec698a57-f8ca-4c86-ec48-2c505779bb02"
      }
    },
    {
      "cell_type": "code",
      "source": [
        "# TODO 02 - is there any missing values?, if there is, which colunm? how many nan values?\n",
        "print(df.isna().sum())\n",
        "print(f\"There is missing value \\nThe 'Postal Code' has the missing value. \\nThe nan values is {df.isna().sum().sum()}\")"
      ],
      "execution_count": null,
      "outputs": [
        {
          "name": "stdout",
          "text": [
            "Row ID             0\n",
            "Order ID           0\n",
            "Order Date         0\n",
            "Ship Date          0\n",
            "Ship Mode          0\n",
            "Customer ID        0\n",
            "Customer Name      0\n",
            "Segment            0\n",
            "Country/Region     0\n",
            "City               0\n",
            "State              0\n",
            "Postal Code       11\n",
            "Region             0\n",
            "Product ID         0\n",
            "Category           0\n",
            "Sub-Category       0\n",
            "Product Name       0\n",
            "Sales              0\n",
            "Quantity           0\n",
            "Discount           0\n",
            "Profit             0\n",
            "dtype: int64\n",
            "There is missing value \n",
            "The 'Postal Code' has the missing value. \n",
            "The nan values is 11\n"
          ],
          "output_type": "stream"
        }
      ],
      "metadata": {
        "datalore": {
          "node_id": "xtDJEa65pF2a8I1nlVppqH",
          "type": "CODE",
          "hide_input_from_viewers": false,
          "hide_output_from_viewers": false,
          "report_properties": {
            "rowId": "Iop1JbwoI3s4hbFR3fqM0r"
          }
        },
        "id": "1ATFsvrsAjOK",
        "outputId": "e4bbe739-6426-4ff7-d42c-13e83dbd7d70"
      }
    },
    {
      "cell_type": "code",
      "source": [
        "# TODO 03 - your friend ask for `California` data, filter it and export csv for him\n",
        "df_cali = df.query(\"State == 'California'\")\n",
        "df_cali.to_csv(\"california.csv\")"
      ],
      "execution_count": null,
      "outputs": [],
      "metadata": {
        "datalore": {
          "node_id": "YoJUS76FcFvO4aeS1Ww1x5",
          "type": "CODE",
          "hide_input_from_viewers": false,
          "hide_output_from_viewers": false,
          "report_properties": {
            "rowId": "lLhwudmlBNK6vmG6t6Qkki"
          }
        },
        "id": "hJfxRlgQAjOL"
      }
    },
    {
      "cell_type": "code",
      "source": [
        "# TODO 04 - your friend ask for all order data in `California` and `Texas` in 2017 (look at Orde\n",
        "result1 = df[((df[\"State\"] == \"California\" ) | (df[\"State\"] == \"Texas\" )) & (df[\"Order Date\"].dt.year == 2017)]\n",
        "result1.to_csv(\"2017_Cali_Tex.csv\")"
      ],
      "execution_count": null,
      "outputs": [],
      "metadata": {
        "datalore": {
          "node_id": "s7BZJCcRlIz8gAyXxFmuf9",
          "type": "CODE",
          "hide_input_from_viewers": false,
          "hide_output_from_viewers": false,
          "report_properties": {
            "rowId": "hiuGJ7S83mjBK9KPYLWxh5"
          }
        },
        "id": "c3K8yM1IAjOL"
      }
    },
    {
      "cell_type": "code",
      "source": [
        "# TODO 05 - how much total sales, average sales, and standard deviation of sales your company make in 2017\n",
        "\n",
        "total2017 = df[df[\"Order Date\"].dt.year == 2017][\"Sales\"].agg([\"sum\", \"mean\", \"std\"])\n",
        "print(total2017)"
      ],
      "execution_count": null,
      "outputs": [
        {
          "name": "stdout",
          "text": [
            "sum     484247.498100\n",
            "mean       242.974159\n",
            "std        754.053357\n",
            "Name: Sales, dtype: float64\n"
          ],
          "output_type": "stream"
        }
      ],
      "metadata": {
        "datalore": {
          "node_id": "MNCbhohSZsTvMmsD25IiDB",
          "type": "CODE",
          "hide_input_from_viewers": false,
          "hide_output_from_viewers": false,
          "report_properties": {
            "rowId": "YeCfPdIw67oZpVfPb62DDP"
          }
        },
        "id": "G9Lg1JowAjOL",
        "outputId": "2d1ca78c-07d8-4539-9fc3-2328bb282427"
      }
    },
    {
      "cell_type": "code",
      "source": [
        "# TODO 06 - which Segment has the highest profit in 2018\n",
        "profit2018 = df.groupby(\"Segment\")[\"Profit\"].sum().nlargest(1).reset_index()\n",
        "print(profit2018)\n",
        "s2018 = profit2018[\"Segment\"][0]\n",
        "p2018 = profit2018[\"Profit\"][0]\n",
        "print(f\"The highest profit is {s2018} segment \\nThe Profit in this segment is {p2018}.\")"
      ],
      "execution_count": null,
      "outputs": [
        {
          "name": "stdout",
          "text": [
            "    Segment       Profit\n",
            "0  Consumer  134119.2092\n",
            "The highest profit is Consumer segment \n",
            "The Profit in this segment is 134119.2092.\n"
          ],
          "output_type": "stream"
        }
      ],
      "metadata": {
        "datalore": {
          "node_id": "A2zvDoOlFMkBwLjgRVBiBH",
          "type": "CODE",
          "hide_input_from_viewers": false,
          "hide_output_from_viewers": false,
          "report_properties": {
            "rowId": "H4BSxfQQ3uw8lIC7ev01ne"
          }
        },
        "id": "a7FyqQ0dAjOL",
        "outputId": "5615d366-7a4f-44f8-b52b-39dfde58d3e0"
      }
    },
    {
      "cell_type": "code",
      "source": [
        "# TODO 07 - which top 5 States have the least total sales between 15 April 2019 - 31 December 2019\n",
        "\n",
        "dfloc = df.loc[(df[\"Order Date\"] >= '2019-04-15') & (df[\"Order Date\"] <= '2019-12-31')]\n",
        "least_sale = dfloc.groupby(\"State\")[\"Sales\"].sum().nsmallest(5)\n",
        "print(least_sale)"
      ],
      "execution_count": null,
      "outputs": [
        {
          "name": "stdout",
          "text": [
            "State\n",
            "New Hampshire            49.05\n",
            "New Mexico               64.08\n",
            "District of Columbia    117.07\n",
            "Louisiana               249.80\n",
            "South Carolina          502.48\n",
            "Name: Sales, dtype: float64\n"
          ],
          "output_type": "stream"
        }
      ],
      "metadata": {
        "datalore": {
          "node_id": "jiyREMKickKHeXtR3eQ34y",
          "type": "CODE",
          "hide_input_from_viewers": false,
          "hide_output_from_viewers": false,
          "report_properties": {
            "rowId": "iGIgIaKENSMRxND0VfInec"
          }
        },
        "id": "Rv1MMOQhAjOL",
        "outputId": "30ec6f9e-d6eb-45dd-f4c2-8b4a2278ab6e"
      }
    },
    {
      "cell_type": "code",
      "source": [
        "# TODO 08 - what is the proportion of total sales (%) in West + Central in 2019 e.g. 25%\n",
        "#df.query(\"\")\n",
        "\n",
        "\n",
        "df2 = df[df[\"Order Date\"].dt.year == 2017].groupby(\"Region\")[\"Sales\"].sum().reset_index()\n",
        "\n",
        "perreg = round((df2[\"Sales\"][3] + df2[\"Sales\"][0]) / (df2[\"Sales\"].sum()) * 100, 2)\n",
        "\n",
        "print(f\"the proportion of total sales (%) in West + Central in 2019 is {perreg} %\")\n"
      ],
      "execution_count": null,
      "outputs": [
        {
          "name": "stdout",
          "text": [
            "the proportion of total sales (%) in West + Central in 2019 is 51.98 %\n"
          ],
          "output_type": "stream"
        }
      ],
      "metadata": {
        "datalore": {
          "node_id": "9kSiLPDloVc6gLMkuKlcQH",
          "type": "CODE",
          "hide_input_from_viewers": false,
          "hide_output_from_viewers": false,
          "report_properties": {
            "rowId": "lXr0JrVzwIKfC5PHZ9DjOI"
          }
        },
        "id": "aUgtwMWdAjOL",
        "outputId": "6a501248-26ab-4c05-ccd3-19a3c3e0aa49"
      }
    },
    {
      "cell_type": "code",
      "source": [
        "# TODO 09 - find top 10 popular products in terms of number of orders vs. total sales during 2019-2020\n",
        "\n",
        "df3 = df.loc[(df[\"Order Date\"] >= '2019-01-01') & (df[\"Order Date\"] <= '2020-12-31')]\n",
        "\n",
        "df3_no = df3[\"Product ID\"].value_counts().nlargest(10).reset_index()\n",
        "\n",
        "df3_no.columns = [\"a_Product_ID\", \"a_Count_Order\"]\n",
        "\n",
        "df3_to = df3.groupby(\"Product ID\")[\"Sales\"].sum().nlargest(10).reset_index()\n",
        "\n",
        "df3_to.columns = [\"b_Product_ID\", \"b_total_sales\"]\n",
        "\n",
        "result2 = pd.concat([df3_no, df3_to], axis=1)\n",
        "\n",
        "print(result2)\n",
        "\n",
        "#df3_no[\"b_Product_ID\"] = df3_to[\"b_Product_ID\"]\n",
        "#df3_no[\"b_total_sales\"] = df3_to[\"b_total_sales\"]\n",
        "\n",
        "#print(df3_no)"
      ],
      "execution_count": null,
      "outputs": [
        {
          "name": "stdout",
          "text": [
            "      a_Product_ID  a_Count_Order     b_Product_ID  b_total_sales\n",
            "0  TEC-AC-10003832             15  TEC-CO-10004722      61599.824\n",
            "1  OFF-PA-10001970             13  TEC-CO-10001449      16079.732\n",
            "2  FUR-FU-10004864             12  TEC-MA-10001047      14299.890\n",
            "3  FUR-TA-10001095             12  OFF-BI-10000545      13621.542\n",
            "4  FUR-CH-10003774             11  OFF-BI-10001359      12737.258\n",
            "5  OFF-ST-10001325             10  OFF-BI-10004995      12521.108\n",
            "6  FUR-FU-10004848             10  TEC-PH-10001459      12263.708\n",
            "7  OFF-BI-10000301             10  FUR-CH-10002024      11846.562\n",
            "8  FUR-CH-10001146             10  OFF-SU-10002881      11825.902\n",
            "9  OFF-BI-10004364              9  FUR-CH-10001215      10169.894\n"
          ],
          "output_type": "stream"
        }
      ],
      "metadata": {
        "datalore": {
          "node_id": "ZctjHY64UVWT8KgZlt6nk6",
          "type": "CODE",
          "hide_input_from_viewers": false,
          "hide_output_from_viewers": false,
          "report_properties": {
            "rowId": "LST8tyEUGmkXXJwQGZJG1k"
          }
        },
        "id": "bfNlodWRAjOM",
        "outputId": "164ecf73-ddf6-43f8-f016-c4e90f7e1494"
      }
    },
    {
      "cell_type": "code",
      "source": [
        "# TODO 10 - plot at least 2 plots, any plot you think interesting :)\n",
        "\n",
        "df.groupby(\"Region\")[\"Sales\"].sum()\\\n",
        "    .plot(x = \"Region\", y = \"Sales\", kind = \"bar\", color = [\"red\",\"green\",\"blue\",\"yellow\"])"
      ],
      "execution_count": null,
      "outputs": [
        {
          "data": {
            "text/plain": [
              "<Axes: xlabel='Region'>"
            ]
          },
          "metadata": {},
          "output_type": "display_data"
        },
        {
          "data": {
            "image/png": "[encoded data removed]"
          },
          "metadata": {
            "image/png": {}
          },
          "output_type": "display_data"
        }
      ],
      "metadata": {
        "datalore": {
          "node_id": "7yyForCUZ7sKZ7okdWDDgC",
          "type": "CODE",
          "hide_input_from_viewers": false,
          "hide_output_from_viewers": false,
          "report_properties": {
            "rowId": "lAfwI5SZm7kKRrt0N4uL0N"
          }
        },
        "id": "DUvt_T4PAjOM",
        "outputId": "2ac4fc42-ec00-4394-f169-fa8e1220d798"
      }
    },
    {
      "cell_type": "code",
      "source": [
        "df[[\"Sales\", \"Profit\"]].plot(x=\"Sales\", y=\"Profit\", kind = \"scatter\", color = \"red\")"
      ],
      "execution_count": null,
      "outputs": [
        {
          "data": {
            "text/plain": [
              "<Axes: xlabel='Sales', ylabel='Profit'>"
            ]
          },
          "metadata": {},
          "output_type": "display_data"
        },
        {
          "data": {
            "image/png": "[encoded data removed]"
          },
          "metadata": {
            "image/png": {}
          },
          "output_type": "display_data"
        }
      ],
      "metadata": {
        "datalore": {
          "node_id": "26Y5gVdr1ni9wKUeSfyn4H",
          "type": "CODE",
          "hide_input_from_viewers": true,
          "hide_output_from_viewers": true
        },
        "id": "XAtmxyauAjOM",
        "outputId": "39d6e120-ba65-4e9b-e047-fa448d2894a2"
      }
    },
    {
      "cell_type": "code",
      "source": [
        "# TODO Bonus - use np.where() to create new column in dataframe to help you answer your own questions\n",
        "\n",
        "# Find the top 10 product that total profit < 0\n",
        "\n",
        "import numpy as np\n",
        "\n",
        "result3 = df.where(df[\"Profit\"] < 0).dropna().\\\n",
        "    groupby(\"Product ID\")[\"Profit\"].sum().reset_index().\\\n",
        "        sort_values(\"Profit\").head(10)\n",
        "\n",
        "print(result3)"
      ],
      "execution_count": null,
      "outputs": [
        {
          "name": "stdout",
          "text": [
            "          Product ID     Profit\n",
            "640  TEC-MA-10000418 -9239.9692\n",
            "522  OFF-BI-10004995 -6859.3896\n",
            "645  TEC-MA-10000822 -5269.9690\n",
            "345  OFF-BI-10000545 -5098.5660\n",
            "376  OFF-BI-10001359 -4162.0336\n",
            "670  TEC-MA-10004125 -3839.9904\n",
            "458  OFF-BI-10003527 -3431.6730\n",
            "216  FUR-TA-10000198 -3107.5272\n",
            "367  OFF-BI-10001120 -2929.4845\n",
            "233  FUR-TA-10001889 -2545.2600\n"
          ],
          "output_type": "stream"
        }
      ],
      "metadata": {
        "datalore": {
          "node_id": "h8RshfSuonyEYsGTOGlnrb",
          "type": "CODE",
          "hide_input_from_viewers": false,
          "hide_output_from_viewers": false,
          "report_properties": {
            "rowId": "wveS00ID0ayw82LtMqs7GY"
          }
        },
        "id": "utb-C1hpAjOM",
        "outputId": "bbae1828-44fa-4e2f-a9f9-5ab40c62aeb9"
      }
    }
  ],
  "metadata": {
    "kernelspec": {
      "display_name": "Python",
      "language": "python",
      "name": "python"
    },
    "datalore": {
      "computation_mode": "JUPYTER",
      "package_manager": "pip",
      "base_environment": "default",
      "packages": [],
      "report_row_ids": [
        "PbPOcFJp4kZc8SwVaEYwCv",
        "8rtSvfR5cpcOkJX12iMNBM",
        "I5VTdHiYQJ02hvW4qopw9b",
        "Rc6h3h2cwvEhQ2UIP3YDRp",
        "AxKZxDigeWcgALpxsbUaWu",
        "nAZYNojgKiTgty4xrwNwXA",
        "p4alpQJ9xd2532cErgXAv8",
        "xnoYqd1Y7GAr1agrd9a6VB",
        "fKJPD5tme4MMhBNjbeTW8a",
        "5XvQugoDbIRKk6hb3gY29f",
        "wlv2RUXm4UIID09jUIa7fN",
        "yFun4ipzLlx5tiwvBOQu1R",
        "2dWnP8UhZ3SAmTNvknuOoi",
        "Iop1JbwoI3s4hbFR3fqM0r",
        "lLhwudmlBNK6vmG6t6Qkki",
        "hiuGJ7S83mjBK9KPYLWxh5",
        "YeCfPdIw67oZpVfPb62DDP",
        "H4BSxfQQ3uw8lIC7ev01ne",
        "iGIgIaKENSMRxND0VfInec",
        "lXr0JrVzwIKfC5PHZ9DjOI",
        "LST8tyEUGmkXXJwQGZJG1k",
        "lAfwI5SZm7kKRrt0N4uL0N",
        "wveS00ID0ayw82LtMqs7GY"
      ],
      "version": 3
    },
    "colab": {
      "provenance": [],
      "include_colab_link": true
    }
  },
  "nbformat": 4,
  "nbformat_minor": 0
}