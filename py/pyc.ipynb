{
  "nbformat": 4,
  "nbformat_minor": 0,
  "metadata": {
    "colab": {
      "provenance": [],
      "authorship_tag": "ABX9TyPW4ytzaK0BrCrK9D9Ham2g",
      "include_colab_link": true
    },
    "kernelspec": {
      "name": "python3",
      "display_name": "Python 3"
    },
    "language_info": {
      "name": "python"
    }
  },
  "cells": [
    {
      "cell_type": "markdown",
      "metadata": {
        "id": "view-in-github",
        "colab_type": "text"
      },
      "source": [
        "<a href=\"https://colab.research.google.com/github/Wingbean/bootcamp8/blob/main/py/pyc.ipynb\" target=\"_parent\"><img src=\"https://colab.research.google.com/assets/colab-badge.svg\" alt=\"Open In Colab\"/></a>"
      ]
    },
    {
      "cell_type": "code",
      "execution_count": null,
      "metadata": {
        "id": "VpBpr2HKXcJS",
        "colab": {
          "base_uri": "https://localhost:8080/"
        },
        "outputId": "59bc355b-e722-420a-f8bb-11cec581beab"
      },
      "outputs": [
        {
          "output_type": "stream",
          "name": "stdout",
          "text": [
            "Welcome to pao-ying-chub in DataSloth world \n",
            "The below is Pules to WIN \n",
            "================\n",
            "Hammer[h] WIN Scissor[s] \n",
            "Scissor[s] WIN Paper[p] \n",
            "Paper[p] WIN Hammer[h] \n",
            "================\n",
            "List of weapons \n",
            "'h' for hammer \n",
            "'p' for paper \n",
            "'s' for scissor \n",
            "'q' for QUIT \n",
            "================\n",
            "Choose your weapon [h, p, s, q]: ->p\n",
            "You-->p VS s<--I \n",
            "YOU LOOOOOSe T-T \n",
            "---------------------\n",
            "Choose your weapon [h, p, s, q]: ->p\n",
            "You-->p VS s<--I \n",
            "YOU LOOOOOSe T-T \n",
            "---------------------\n",
            "Choose your weapon [h, p, s, q]: ->p\n",
            "You-->p VS h<--I \n",
            "YOU WINNNN ;) \n",
            "---------------------\n",
            "Choose your weapon [h, p, s, q]: ->p\n",
            "You-->p VS p<--I \n",
            "EQUAL, WE TIE, :) \n",
            "---------------------\n",
            "Choose your weapon [h, p, s, q]: ->q\n",
            "Bye see you next time \n",
            "---------------------\n"
          ]
        }
      ],
      "source": [
        "print(\"Welcome to pao-ying-chub in DataSloth world \\nThe below is Pules to WIN \\n================\")\n",
        "print(\"Hammer[h] WIN Scissor[s] \\nScissor[s] WIN Paper[p] \\nPaper[p] WIN Hammer[h] \\n================\")\n",
        "print(\"List of weapons \\n'h' for hammer \\n'p' for paper \\n's' for scissor \\n'q' for QUIT \\n================\")\n",
        "\n",
        "# import random\n",
        "from random import sample\n",
        "import random\n",
        "\n",
        "def pyc() :\n",
        "    while True :\n",
        "        com_play = [\"h\",\"s\",\"p\"]\n",
        "        sam_com_play = random.choice(com_play)\n",
        "        man_play = input(\"Choose your weapon [h, p, s, q]: ->\")\n",
        "        if man_play == sam_com_play :\n",
        "            print(f\"You-->{man_play} VS {sam_com_play}<--I \\nEQUAL, WE TIE, :) \\n---------------------\")\n",
        "        elif man_play == \"h\" and sam_com_play == \"s\" :\n",
        "            print(f\"You-->{man_play} VS {sam_com_play}<--I \\nYOU WINNNN ;) \\n---------------------\")\n",
        "        elif man_play == \"h\" and sam_com_play == \"p\" :\n",
        "            print(f\"You-->{man_play} VS {sam_com_play}<--I \\nYOU LOOOOOSe T-T \\n---------------------\")\n",
        "        elif man_play == \"s\" and sam_com_play == \"h\" :\n",
        "            print(f\"You-->{man_play} VS {sam_com_play}<--I \\nYOU LOOOOOSe T-T \\n---------------------\")\n",
        "        elif man_play == \"s\" and sam_com_play == \"p\" :\n",
        "            print(f\"You-->{man_play} VS {sam_com_play}<--I \\nYOU WINNNN ;) \\n---------------------\")\n",
        "        elif man_play == \"p\" and sam_com_play == \"s\" :\n",
        "            print(f\"You-->{man_play} VS {sam_com_play}<--I \\nYOU LOOOOOSe T-T \\n---------------------\")\n",
        "        elif man_play == \"p\" and sam_com_play == \"h\" :\n",
        "            print(f\"You-->{man_play} VS {sam_com_play}<--I \\nYOU WINNNN ;) \\n---------------------\")\n",
        "        elif man_play == \"q\" :\n",
        "            print(\"Bye see you next time \\n---------------------\")\n",
        "            break\n",
        "        else :\n",
        "            print(\"Miss the rules,try again \\n---------------------\")\n",
        "\n",
        "pyc()\n",
        "\n",
        "\n",
        "\n",
        "\n"
      ]
    },
    {
      "cell_type": "code",
      "source": [
        "            if man_play not in com_play and count_error < 3 :\n",
        "                print(\"Heyyyy Man WRONG weapond\")\n",
        "                print(f\"You MISS THE RULE {count_error}/3 TIMES\")\n",
        "                print(\"ARE YOU HUMAN ? TRY AGAIN\")\n",
        "                count_error = count_error + 1\n",
        "                print(\"-----------------------------------\")\n",
        "\n",
        "            elif man_play not in com_play and count_error >= 3 :\n",
        "                print(\"Heyyyy Man I think you are not HUMAN\")\n",
        "                print(f\"You MISS THE RULE {count_error}/3 TIMES\")\n",
        "                print(\"RUN Recheck again ARE YOU HUMAN ?\")\n",
        "                print(\"-----------------------------------\")\n",
        "                play_round = 1\n",
        "                play_win = 0\n",
        "                play_lose = 0\n",
        "                play_tie = 0\n",
        "                plus = 1\n",
        "                count_error = 1\n",
        "                break"
      ],
      "metadata": {
        "id": "qD0TTbbdDdBw"
      },
      "execution_count": null,
      "outputs": []
    },
    {
      "cell_type": "code",
      "source": [
        "        import random\n",
        "        com_play = [\"h\",\"s\",\"p\"]\n",
        "        sam_com_play = random.choice(com_play)"
      ],
      "metadata": {
        "id": "Cay8lXbULBWJ",
        "colab": {
          "base_uri": "https://localhost:8080/"
        },
        "outputId": "d7cfd3c8-21c7-4e71-dfa9-87a920bb2788"
      },
      "execution_count": null,
      "outputs": [
        {
          "output_type": "execute_result",
          "data": {
            "text/plain": [
              "str"
            ]
          },
          "metadata": {},
          "execution_count": 92
        }
      ]
    },
    {
      "cell_type": "code",
      "source": [
        "##collect stat\n",
        "play_round = 1\n",
        "play_win = 0\n",
        "play_lose = 0\n",
        "play_tie = 0\n",
        "plus = 1\n",
        "count_error = 1"
      ],
      "metadata": {
        "id": "1L7FElCwSjHA"
      },
      "execution_count": null,
      "outputs": []
    }
  ]
}