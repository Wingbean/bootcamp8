{
  "nbformat": 4,
  "nbformat_minor": 0,
  "metadata": {
    "colab": {
      "provenance": [],
      "authorship_tag": "ABX9TyM/r+d23cIhJNRL97ksxzf6",
      "include_colab_link": true
    },
    "kernelspec": {
      "name": "python3",
      "display_name": "Python 3"
    },
    "language_info": {
      "name": "python"
    }
  },
  "cells": [
    {
      "cell_type": "markdown",
      "metadata": {
        "id": "view-in-github",
        "colab_type": "text"
      },
      "source": [
        "<a href=\"https://colab.research.google.com/github/Wingbean/bootcamp8/blob/main/py/pyc.ipynb\" target=\"_parent\"><img src=\"https://colab.research.google.com/assets/colab-badge.svg\" alt=\"Open In Colab\"/></a>"
      ]
    },
    {
      "cell_type": "code",
      "execution_count": null,
      "metadata": {
        "id": "VpBpr2HKXcJS",
        "colab": {
          "base_uri": "https://localhost:8080/"
        },
        "outputId": "59bc355b-e722-420a-f8bb-11cec581beab"
      },
      "outputs": [
        {
          "output_type": "stream",
          "name": "stdout",
          "text": [
            "Welcome to pao-ying-chub in DataSloth world \n",
            "The below is Pules to WIN \n",
            "================\n",
            "Hammer[h] WIN Scissor[s] \n",
            "Scissor[s] WIN Paper[p] \n",
            "Paper[p] WIN Hammer[h] \n",
            "================\n",
            "List of weapons \n",
            "'h' for hammer \n",
            "'p' for paper \n",
            "'s' for scissor \n",
            "'q' for QUIT \n",
            "================\n",
            "Choose your weapon [h, p, s, q]: ->p\n",
            "You-->p VS s<--I \n",
            "YOU LOOOOOSe T-T \n",
            "---------------------\n",
            "Choose your weapon [h, p, s, q]: ->p\n",
            "You-->p VS s<--I \n",
            "YOU LOOOOOSe T-T \n",
            "---------------------\n",
            "Choose your weapon [h, p, s, q]: ->p\n",
            "You-->p VS h<--I \n",
            "YOU WINNNN ;) \n",
            "---------------------\n",
            "Choose your weapon [h, p, s, q]: ->p\n",
            "You-->p VS p<--I \n",
            "EQUAL, WE TIE, :) \n",
            "---------------------\n",
            "Choose your weapon [h, p, s, q]: ->q\n",
            "Bye see you next time \n",
            "---------------------\n"
          ]
        }
      ],
      "source": [
        "print(\"Welcome to pao-ying-chub in DataSloth world \\nThe below is Pules to WIN \\n================\")\n",
        "print(\"Hammer[h] WIN Scissor[s] \\nScissor[s] WIN Paper[p] \\nPaper[p] WIN Hammer[h] \\n================\")\n",
        "print(\"List of weapons \\n'h' for hammer \\n'p' for paper \\n's' for scissor \\n'q' for QUIT \\n================\")\n",
        "\n",
        "# import random\n",
        "from random import sample\n",
        "import random\n",
        "\n",
        "def pyc() :\n",
        "    while True :\n",
        "        com_play = [\"h\",\"s\",\"p\"]\n",
        "        sam_com_play = random.choice(com_play)\n",
        "        man_play = input(\"Choose your weapon [h, p, s, q]: ->\")\n",
        "        if man_play == sam_com_play :\n",
        "            print(f\"You-->{man_play} VS {sam_com_play}<--I \\nEQUAL, WE TIE, :) \\n---------------------\")\n",
        "        elif man_play == \"h\" and sam_com_play == \"s\" :\n",
        "            print(f\"You-->{man_play} VS {sam_com_play}<--I \\nYOU WINNNN ;) \\n---------------------\")\n",
        "        elif man_play == \"h\" and sam_com_play == \"p\" :\n",
        "            print(f\"You-->{man_play} VS {sam_com_play}<--I \\nYOU LOOOOOSe T-T \\n---------------------\")\n",
        "        elif man_play == \"s\" and sam_com_play == \"h\" :\n",
        "            print(f\"You-->{man_play} VS {sam_com_play}<--I \\nYOU LOOOOOSe T-T \\n---------------------\")\n",
        "        elif man_play == \"s\" and sam_com_play == \"p\" :\n",
        "            print(f\"You-->{man_play} VS {sam_com_play}<--I \\nYOU WINNNN ;) \\n---------------------\")\n",
        "        elif man_play == \"p\" and sam_com_play == \"s\" :\n",
        "            print(f\"You-->{man_play} VS {sam_com_play}<--I \\nYOU LOOOOOSe T-T \\n---------------------\")\n",
        "        elif man_play == \"p\" and sam_com_play == \"h\" :\n",
        "            print(f\"You-->{man_play} VS {sam_com_play}<--I \\nYOU WINNNN ;) \\n---------------------\")\n",
        "        elif man_play == \"q\" :\n",
        "            print(\"Bye see you next time \\n---------------------\")\n",
        "            break\n",
        "        else :\n",
        "            print(\"Miss the rules,try again \\n---------------------\")\n",
        "\n",
        "pyc()\n",
        "\n",
        "\n",
        "\n",
        "\n"
      ]
    }
  ]
}