{
  "nbformat": 4,
  "nbformat_minor": 0,
  "metadata": {
    "colab": {
      "provenance": [],
      "authorship_tag": "ABX9TyMFljur6AJ9I1WQPTFJ/KOE",
      "include_colab_link": true
    },
    "kernelspec": {
      "name": "python3",
      "display_name": "Python 3"
    },
    "language_info": {
      "name": "python"
    }
  },
  "cells": [
    {
      "cell_type": "markdown",
      "metadata": {
        "id": "view-in-github",
        "colab_type": "text"
      },
      "source": [
        "<a href=\"https://colab.research.google.com/github/Wingbean/bootcamp8/blob/main/py/class_ATM.ipynb\" target=\"_parent\"><img src=\"https://colab.research.google.com/assets/colab-badge.svg\" alt=\"Open In Colab\"/></a>"
      ]
    },
    {
      "cell_type": "markdown",
      "source": [
        "This project create class about ATM\n",
        "- 3 attributes\n",
        "- 5 methods\n",
        "\n",
        "\n"
      ],
      "metadata": {
        "id": "Yk8VAspLvrbb"
      }
    },
    {
      "cell_type": "code",
      "execution_count": 74,
      "metadata": {
        "id": "rOkT8vWlciyZ"
      },
      "outputs": [],
      "source": [
        "# class ATM\n",
        "#!pip install qrcode\n",
        "import random\n",
        "import qrcode\n",
        "from skimage import io\n",
        "\n",
        "class atm:\n",
        "    def __init__(self, acc_name, acc_bank, acc_branch):\n",
        "        self.acc_name = acc_name\n",
        "        self.acc_bank = acc_bank\n",
        "        self.acc_branch = acc_branch\n",
        "    # atm method\n",
        "    def dep(self, amount):\n",
        "        print(f\"{self.acc_name}, Do you want to deposit {amount} Baht ?\")\n",
        "        a1 = input(\"yes or no ?-->\")\n",
        "        if a1 == \"yes\" :\n",
        "            print(\"Put your money in the socket and wait for slip \\nThank you.\")\n",
        "        elif a1 == \"no\" :\n",
        "             print(\"cancel deposit, Thank you\")\n",
        "\n",
        "    def withd(self, amount):\n",
        "        print(f\"{self.acc_name}, Do you want to withdraw {amount} Baht ?\")\n",
        "        a1 = input(\"yes or no ?-->\")\n",
        "        if a1 == \"yes\" :\n",
        "            print(\"Recieve your money in the socket and wait for slip \\nThank you.\")\n",
        "        elif a1 == \"no\" :\n",
        "             print(\"cancel withdraw, Thank you\")\n",
        "\n",
        "    def trans(self,amount):\n",
        "        print(f\"{self.acc_name}, Do you want to transfer money?\")\n",
        "        a1 = input(\"Type the account no. to recieve your transrfering-->\")\n",
        "        a2 = input(\"Type amount you want to transfer:-->\")\n",
        "        print(f\"Datasloth, you want to transfer {a2} Baht to account no. {a1}\")\n",
        "        a3 = input(\"yes or no:-->\")\n",
        "        if a3 == \"yes\":\n",
        "            print(f\"Transfer to {a1}, amount {a2} is Complete !!\")\n",
        "        elif a3 == \"no\":\n",
        "            print(\"cancel transfer, Thank you\")\n",
        "\n",
        "    def otp(self):\n",
        "        otp = list(range(1111,9999))\n",
        "        randotp = random.choice(otp)\n",
        "        a1 = int(input(\"type 1 for request OTP or Type 0 to cancel\"))\n",
        "        if a1 == 1 :\n",
        "            print(f\"Your OTP is -->{randotp}<-- use it in 5 minutes\")\n",
        "        elif a1 == 0 :\n",
        "            print(\"cancel your request\")\n",
        "\n",
        "    def pp(self):\n",
        "        a1 = int(input(\"Type 1 for create promptpay QR code:-->\"))\n",
        "        if a1 == 1 :\n",
        "            qrtext = \"This QR is for fun \\nproptpay demo \\nby DATASloth\"\n",
        "            qr = qrcode.QRCode(version = 1,\n",
        "                            box_size = 10,\n",
        "                            border = 5)\n",
        "            qr.add_data(qrtext)\n",
        "            qr.make(fit = True)\n",
        "            img = qr.make_image(fill_color = 'red',\n",
        "                            back_color = 'white')\n",
        "            img.save('qr.png')\n",
        "            img = io.imread(\"qr.png\")\n",
        "            io.imshow(img)\n",
        "        elif a1 != 1 :\n",
        "            print(\"cancel your request!!\")\n",
        "\n",
        "\n",
        "\n"
      ]
    },
    {
      "cell_type": "code",
      "source": [
        "atm1 = atm(\"datasloth\",\"ktb\",\"silom\")\n",
        "print(f\"Your acc name is {atm1.acc_name} \\nYour acc bank is {atm1.acc_bank} \\nYour acc branch is {atm1.acc_branch}\")\n",
        "atm1.pp()"
      ],
      "metadata": {
        "colab": {
          "base_uri": "https://localhost:8080/",
          "height": 565
        },
        "id": "PnsF-uVqgFGI",
        "outputId": "09578c1d-d03f-48da-dc11-b91fff4da82c"
      },
      "execution_count": 79,
      "outputs": [
        {
          "name": "stdout",
          "output_type": "stream",
          "text": [
            "Your acc name is datasloth \n",
            "Your acc bank is ktb \n",
            "Your acc branch is silom\n",
            "Type 1 for create promptpay QR code:-->1\n"
          ]
        },
        {
          "output_type": "display_data",
          "data": {
            "text/plain": [
              "<Figure size 640x480 with 1 Axes>"
            ],
            "image/png": "[encoded data removed]"
          },
          "metadata": {}
        }
      ]
    }
  ]
}