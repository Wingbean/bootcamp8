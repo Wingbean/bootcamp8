{
  "nbformat": 4,
  "nbformat_minor": 0,
  "metadata": {
    "colab": {
      "provenance": [],
      "authorship_tag": "ABX9TyNlhuS5LQmZBYc1XDzItCNy",
      "include_colab_link": true
    },
    "kernelspec": {
      "name": "python3",
      "display_name": "Python 3"
    },
    "language_info": {
      "name": "python"
    }
  },
  "cells": [
    {
      "cell_type": "markdown",
      "metadata": {
        "id": "view-in-github",
        "colab_type": "text"
      },
      "source": [
        "<a href=\"https://colab.research.google.com/github/Wingbean/bootcamp8/blob/main/py/python101.ipynb\" target=\"_parent\"><img src=\"https://colab.research.google.com/assets/colab-badge.svg\" alt=\"Open In Colab\"/></a>"
      ]
    },
    {
      "cell_type": "markdown",
      "source": [
        "# **Python Programming 101**\n",
        "\n",
        "5 concept\n",
        "\n",
        "- variables\n",
        "- data types\n",
        "- data structures\n",
        "- function\n",
        "- control flow\n",
        "\n",
        "\n",
        "\n"
      ],
      "metadata": {
        "id": "Q30KbSgyYED-"
      }
    },
    {
      "cell_type": "code",
      "execution_count": null,
      "metadata": {
        "colab": {
          "base_uri": "https://localhost:8080/"
        },
        "id": "PzIkUmFdXdHE",
        "outputId": "0f40d6d2-5b15-4dc2-cfe3-ee1ac417a27a"
      },
      "outputs": [
        {
          "output_type": "stream",
          "name": "stdout",
          "text": [
            "hello world\n"
          ]
        }
      ],
      "source": [
        "print(\"hello world\")"
      ]
    },
    {
      "cell_type": "code",
      "source": [
        "print(1+1)\n",
        "print(2*2)\n",
        "print(5-2)\n",
        "print(6/2)\n",
        "print(8/5)\n",
        "print(8//5)\n",
        "print(round(1.49))\n",
        "print(round(1.52))\n",
        "print(3**2)\n",
        "print(pow(5,2))\n",
        "print(abs(-5))"
      ],
      "metadata": {
        "colab": {
          "base_uri": "https://localhost:8080/"
        },
        "id": "QzekKkhlZ7lE",
        "outputId": "80d69047-af69-4c7b-d032-406863b6d928"
      },
      "execution_count": null,
      "outputs": [
        {
          "output_type": "stream",
          "name": "stdout",
          "text": [
            "2\n",
            "4\n",
            "3\n",
            "3.0\n",
            "1.6\n",
            "1\n",
            "1\n",
            "2\n",
            "9\n",
            "25\n",
            "5\n"
          ]
        }
      ]
    },
    {
      "cell_type": "code",
      "source": [
        "# compare value\n",
        "print(1+1 == 2)\n",
        "print(1+1 != 2)\n",
        "print(1+1 >= 2)\n",
        "print(1+1 <= 2)"
      ],
      "metadata": {
        "colab": {
          "base_uri": "https://localhost:8080/"
        },
        "id": "ybU1Dtj5aHgq",
        "outputId": "57760560-a539-4bc8-dd1c-22cc35d137f7"
      },
      "execution_count": null,
      "outputs": [
        {
          "output_type": "stream",
          "name": "stdout",
          "text": [
            "True\n",
            "False\n",
            "True\n",
            "True\n"
          ]
        }
      ]
    },
    {
      "cell_type": "code",
      "source": [
        "# python > R\n",
        "# deep learning => AI software\n",
        "# software API"
      ],
      "metadata": {
        "id": "LXeMxhsfdT9a"
      },
      "execution_count": null,
      "outputs": []
    },
    {
      "cell_type": "code",
      "source": [
        "my_name = \"tae\"\n",
        "income = 50000\n",
        "expense = 36000\n",
        "saving = income - expense\n",
        "print(saving)\n",
        "print(my_name)"
      ],
      "metadata": {
        "colab": {
          "base_uri": "https://localhost:8080/"
        },
        "id": "Kj3rTUJMfIzZ",
        "outputId": "dfaed28d-d74c-46b4-ca99-30823f57bc03"
      },
      "execution_count": null,
      "outputs": [
        {
          "output_type": "stream",
          "name": "stdout",
          "text": [
            "14000\n",
            "tae\n"
          ]
        }
      ]
    },
    {
      "cell_type": "code",
      "source": [
        "# delete var\n",
        "del my_name\n",
        "del saving"
      ],
      "metadata": {
        "id": "CJjlkkjFfMbQ"
      },
      "execution_count": null,
      "outputs": []
    },
    {
      "cell_type": "code",
      "source": [
        "# print string\n",
        "my_name = \"tae\"\n",
        "age = 35\n",
        "fav_lang = \"R\""
      ],
      "metadata": {
        "id": "xd0iIqaegx6Y"
      },
      "execution_count": null,
      "outputs": []
    },
    {
      "cell_type": "code",
      "source": [
        "# fstring\n",
        "f\"Hi my name is {my_name}, I'm {age} yrs old and my favorite language is {fav_lang}\""
      ],
      "metadata": {
        "colab": {
          "base_uri": "https://localhost:8080/",
          "height": 37
        },
        "id": "FDW6YXVrhZ-l",
        "outputId": "4d921c67-beaf-4aa0-a8f5-cad3669d770a"
      },
      "execution_count": null,
      "outputs": [
        {
          "output_type": "execute_result",
          "data": {
            "text/plain": [
              "\"Hi my name is tae, I'm 35 yrs old and my favorite language is R\""
            ],
            "application/vnd.google.colaboratory.intrinsic+json": {
              "type": "string"
            }
          },
          "metadata": {},
          "execution_count": 43
        }
      ]
    },
    {
      "cell_type": "code",
      "source": [
        "# string + string\n",
        "# string * 3\n",
        "\n",
        "text = \"blackpink\" + \" in your area!\"\n",
        "print(text)\n"
      ],
      "metadata": {
        "colab": {
          "base_uri": "https://localhost:8080/"
        },
        "id": "RYH46X_ghZ75",
        "outputId": "14116a4a-73bb-4da4-e293-d75ed1dab4b1"
      },
      "execution_count": null,
      "outputs": [
        {
          "output_type": "stream",
          "name": "stdout",
          "text": [
            "blackpink in your area!\n"
          ]
        }
      ]
    },
    {
      "cell_type": "code",
      "source": [
        "len(text)"
      ],
      "metadata": {
        "colab": {
          "base_uri": "https://localhost:8080/"
        },
        "id": "gTkRurqYjHjq",
        "outputId": "62f89657-3c6f-4d8c-ac3d-52b92dc35382"
      },
      "execution_count": null,
      "outputs": [
        {
          "output_type": "execute_result",
          "data": {
            "text/plain": [
              "23"
            ]
          },
          "metadata": {},
          "execution_count": 49
        }
      ]
    },
    {
      "cell_type": "code",
      "source": [
        "# data type\n",
        "# 1. int\n",
        "# 2. float\n",
        "# 3. str\n",
        "# 4. bool"
      ],
      "metadata": {
        "id": "e1Bz6wdjkApb"
      },
      "execution_count": null,
      "outputs": []
    },
    {
      "cell_type": "code",
      "source": [
        "x = \"Hello I \\\" man\"\n",
        "print(x, type(x))"
      ],
      "metadata": {
        "colab": {
          "base_uri": "https://localhost:8080/"
        },
        "id": "OOrcMzOHk2QY",
        "outputId": "da69924a-5841-4a85-9d35-edb64328fc28"
      },
      "execution_count": null,
      "outputs": [
        {
          "output_type": "stream",
          "name": "stdout",
          "text": [
            "Hello I \" man <class 'str'>\n"
          ]
        }
      ]
    },
    {
      "cell_type": "code",
      "source": [
        "print(\"Hello\\tWorld\")"
      ],
      "metadata": {
        "colab": {
          "base_uri": "https://localhost:8080/"
        },
        "id": "21tJtt5Umjxi",
        "outputId": "59baeb28-fa92-4c5a-bf53-d790f0f3ab96"
      },
      "execution_count": null,
      "outputs": [
        {
          "output_type": "stream",
          "name": "stdout",
          "text": [
            "Hello\tWorld\n"
          ]
        }
      ]
    },
    {
      "cell_type": "code",
      "source": [
        "# \"\"\"\n",
        "poem = \"\"\"I love mom\n",
        "I love dad\n",
        "and I love U\"\"\"\n",
        "\n",
        "print(poem)"
      ],
      "metadata": {
        "colab": {
          "base_uri": "https://localhost:8080/"
        },
        "id": "v3aezxx_nRUU",
        "outputId": "f68ce984-8cd9-42c2-9dd3-794af763107e"
      },
      "execution_count": null,
      "outputs": [
        {
          "output_type": "stream",
          "name": "stdout",
          "text": [
            "I love mom\n",
            "I love dad\n",
            "and I love U\n"
          ]
        }
      ]
    },
    {
      "cell_type": "code",
      "source": [
        "# convert data type\n",
        "# int float str bool\n",
        "\n",
        "x = 1\n",
        "print(x, type(x))\n",
        "x = str(x)\n",
        "x\n"
      ],
      "metadata": {
        "colab": {
          "base_uri": "https://localhost:8080/",
          "height": 57
        },
        "id": "5Dwqv4zNZXox",
        "outputId": "7a02ab72-8267-420c-e8ed-d677c61eaf4c"
      },
      "execution_count": null,
      "outputs": [
        {
          "output_type": "stream",
          "name": "stdout",
          "text": [
            "1 <class 'int'>\n"
          ]
        },
        {
          "output_type": "execute_result",
          "data": {
            "text/plain": [
              "'1'"
            ],
            "application/vnd.google.colaboratory.intrinsic+json": {
              "type": "string"
            }
          },
          "metadata": {},
          "execution_count": 7
        }
      ]
    },
    {
      "cell_type": "code",
      "source": [
        "y = \"100\"\n",
        "print(type(y))\n",
        "y = int(y)\n",
        "print(type(y))"
      ],
      "metadata": {
        "colab": {
          "base_uri": "https://localhost:8080/"
        },
        "id": "gG8jS_L5aBIh",
        "outputId": "badd5065-8603-4f1a-ea84-8e72af6ba4d6"
      },
      "execution_count": null,
      "outputs": [
        {
          "output_type": "stream",
          "name": "stdout",
          "text": [
            "<class 'str'>\n",
            "<class 'int'>\n"
          ]
        }
      ]
    },
    {
      "cell_type": "code",
      "source": [
        "bool(1)"
      ],
      "metadata": {
        "colab": {
          "base_uri": "https://localhost:8080/"
        },
        "id": "HHaCE0GWaJc4",
        "outputId": "ecbe1029-8336-439c-e2a7-23c6c682d021"
      },
      "execution_count": null,
      "outputs": [
        {
          "output_type": "execute_result",
          "data": {
            "text/plain": [
              "True"
            ]
          },
          "metadata": {},
          "execution_count": 12
        }
      ]
    },
    {
      "cell_type": "code",
      "source": [
        "# Get input from user\n",
        "\n",
        "user_name = input(\"what is yr name ?\")\n",
        "print(\"Hi! \" + user_name)\n",
        "\n",
        "user_age = input(\"How old are you ? \")\n",
        "print(\"your age: \" + user_age)\n",
        "print(int(user_age) * 2)"
      ],
      "metadata": {
        "colab": {
          "base_uri": "https://localhost:8080/"
        },
        "id": "s2jNIY60cmkK",
        "outputId": "4e68a707-cedf-45e1-ecde-f465385ea6af"
      },
      "execution_count": null,
      "outputs": [
        {
          "output_type": "stream",
          "name": "stdout",
          "text": [
            "what is yr name ?mk\n",
            "Hi! mk\n",
            "How old are you ? 25\n",
            "your age: 25\n",
            "50\n"
          ]
        }
      ]
    },
    {
      "cell_type": "code",
      "source": [
        "user_name = input(\"what is yr name ?\")\n",
        "user_age = input(\"How old are you ? \")\n",
        "user_agei = int(user_age)\n",
        "print(\"Hi! \" + user_name +  \", your double age is: \" + str(user_agei * 2))"
      ],
      "metadata": {
        "colab": {
          "base_uri": "https://localhost:8080/"
        },
        "id": "PbTP9K3BgyNV",
        "outputId": "3c03f49d-28fc-4172-deea-7fd4b69e9365"
      },
      "execution_count": null,
      "outputs": [
        {
          "output_type": "stream",
          "name": "stdout",
          "text": [
            "what is yr name ?MKDAY\n",
            "How old are you ? 25\n",
            "Hi! MKDAY, your double age is: 50\n"
          ]
        }
      ]
    },
    {
      "cell_type": "code",
      "source": [
        "# type hint\n",
        "\n",
        "age: int = \"20\"\n",
        "\n",
        "print(age, type(age))"
      ],
      "metadata": {
        "colab": {
          "base_uri": "https://localhost:8080/"
        },
        "id": "RjG-lazUiEqV",
        "outputId": "93dc08f3-426a-4ad6-e4d5-c3aef8659a35"
      },
      "execution_count": null,
      "outputs": [
        {
          "output_type": "stream",
          "name": "stdout",
          "text": [
            "20 <class 'str'>\n"
          ]
        }
      ]
    },
    {
      "cell_type": "code",
      "source": [
        "# Function\n",
        "\n",
        "def add_two_num(v1,v2) :\n",
        "    return v1 + v2\n",
        "\n",
        "result = add_two_num(5,10)\n",
        "print(result)\n"
      ],
      "metadata": {
        "colab": {
          "base_uri": "https://localhost:8080/"
        },
        "id": "cMvH22ldi53I",
        "outputId": "ee6f4f74-61cc-4efc-a19e-8a895bbc7eaa"
      },
      "execution_count": null,
      "outputs": [
        {
          "output_type": "stream",
          "name": "stdout",
          "text": [
            "15\n"
          ]
        }
      ]
    },
    {
      "cell_type": "code",
      "source": [
        "def greeting(name = \"tae\", food = \"KFC\") :\n",
        "    return f\"Hello! {name}, You fav food is {food}\"\n",
        "\n",
        "greeting(food = \"Suki\" , name = \"MKDAY\")"
      ],
      "metadata": {
        "colab": {
          "base_uri": "https://localhost:8080/",
          "height": 37
        },
        "id": "5JbWDVztlV77",
        "outputId": "d13f1c59-255e-4b13-dffd-e205997e082d"
      },
      "execution_count": null,
      "outputs": [
        {
          "output_type": "execute_result",
          "data": {
            "text/plain": [
              "'Hello! MKDAY, You fav food is Suki'"
            ],
            "application/vnd.google.colaboratory.intrinsic+json": {
              "type": "string"
            }
          },
          "metadata": {},
          "execution_count": 43
        }
      ]
    },
    {
      "cell_type": "code",
      "source": [
        "# function get input from user\n",
        "def greeting_v2() :\n",
        "    name = input(\"What's yr name? \")\n",
        "    return f\"Hello {name}! \"\n",
        "\n",
        "greeting_v2()"
      ],
      "metadata": {
        "colab": {
          "base_uri": "https://localhost:8080/",
          "height": 57
        },
        "id": "YUpZNQvAlpRu",
        "outputId": "bf9f88f2-f69f-4baa-fc97-61fa0e3edea6"
      },
      "execution_count": null,
      "outputs": [
        {
          "name": "stdout",
          "output_type": "stream",
          "text": [
            "What's yr name? MeMo\n"
          ]
        },
        {
          "output_type": "execute_result",
          "data": {
            "text/plain": [
              "'Hello MeMo! '"
            ],
            "application/vnd.google.colaboratory.intrinsic+json": {
              "type": "string"
            }
          },
          "metadata": {},
          "execution_count": 44
        }
      ]
    },
    {
      "cell_type": "code",
      "source": [
        "# function that return multiple value\n",
        "def demo():\n",
        "    name1 = input(\"Pick a name: \")\n",
        "    name2 = input(\"Pick A name: \")\n",
        "    return name1, name2, 100 #tuple\n",
        "\n",
        "#tuple unpacking\n",
        "friend1, friend2, _ = demo() # name1 is in friend1, name2 is in friend2\n",
        "print(\"friend1: \" + friend1)\n",
        "print(\"friend2: \" + friend2)"
      ],
      "metadata": {
        "colab": {
          "base_uri": "https://localhost:8080/"
        },
        "id": "vxxtJjtxofAO",
        "outputId": "95cbbae2-08a2-41ae-8fcb-ce8f72cca19c"
      },
      "execution_count": null,
      "outputs": [
        {
          "output_type": "stream",
          "name": "stdout",
          "text": [
            "Pick a name: mk\n",
            "Pick A name: memo\n",
            "friend1: mk\n",
            "friend2: memo\n"
          ]
        }
      ]
    },
    {
      "cell_type": "code",
      "source": [
        "# DATA STRUCTURE\n",
        "# list\n",
        "# tuple\n",
        "# dictionary\n",
        "# set"
      ],
      "metadata": {
        "id": "JF2_0O6upRJo"
      },
      "execution_count": null,
      "outputs": []
    },
    {
      "cell_type": "code",
      "source": [
        "## list\n",
        "shopping_list = [\"banana\",\"egg\",\"bread\"]\n",
        "shopping_list"
      ],
      "metadata": {
        "colab": {
          "base_uri": "https://localhost:8080/"
        },
        "id": "eS--46fnsEKV",
        "outputId": "7b0edd92-f3e5-4f98-9e1f-ce4ac9e5ce7f"
      },
      "execution_count": null,
      "outputs": [
        {
          "output_type": "execute_result",
          "data": {
            "text/plain": [
              "['banana', 'egg', 'bread']"
            ]
          },
          "metadata": {},
          "execution_count": 62
        }
      ]
    },
    {
      "cell_type": "code",
      "source": [
        "from re import S\n",
        "# add new item to list\n",
        "# use .append\n",
        "\n",
        "shopping_list.append(\"noodle\")\n",
        "shopping_list"
      ],
      "metadata": {
        "colab": {
          "base_uri": "https://localhost:8080/"
        },
        "id": "M-zo8gAvtTAS",
        "outputId": "e5bdb4b3-d4f0-4945-e74b-a1cd857781be"
      },
      "execution_count": null,
      "outputs": [
        {
          "output_type": "execute_result",
          "data": {
            "text/plain": [
              "['banana', 'egg', 'bread', 'noodle']"
            ]
          },
          "metadata": {},
          "execution_count": 63
        }
      ]
    },
    {
      "cell_type": "code",
      "source": [
        "shopping_list.append(\"orange\")\n",
        "shopping_list"
      ],
      "metadata": {
        "colab": {
          "base_uri": "https://localhost:8080/"
        },
        "id": "6TicIQS5twOR",
        "outputId": "fb923966-297b-4f72-c1bb-f043edccc85f"
      },
      "execution_count": null,
      "outputs": [
        {
          "output_type": "execute_result",
          "data": {
            "text/plain": [
              "['banana', 'egg', 'bread', 'noodle', 'orange']"
            ]
          },
          "metadata": {},
          "execution_count": 64
        }
      ]
    },
    {
      "cell_type": "code",
      "source": [
        "# insert use index\n",
        "shopping_list.insert(0, \"grape\")\n",
        "shopping_list"
      ],
      "metadata": {
        "colab": {
          "base_uri": "https://localhost:8080/"
        },
        "id": "PQvjDYkQuBv3",
        "outputId": "6f5f9334-820e-4f92-f92c-8fa36cf6b4ae"
      },
      "execution_count": null,
      "outputs": [
        {
          "output_type": "execute_result",
          "data": {
            "text/plain": [
              "['grape', 'banana', 'egg', 'bread', 'noodle', 'orange']"
            ]
          },
          "metadata": {},
          "execution_count": 65
        }
      ]
    },
    {
      "cell_type": "code",
      "source": [
        "# remove value if you know index\n",
        "shopping_list[0] = \"grape\"\n",
        "shopping_list"
      ],
      "metadata": {
        "colab": {
          "base_uri": "https://localhost:8080/"
        },
        "id": "jMBjGNmrutQc",
        "outputId": "630aeceb-a3d8-4db8-b11d-16d31d4a0363"
      },
      "execution_count": null,
      "outputs": [
        {
          "output_type": "execute_result",
          "data": {
            "text/plain": [
              "['grape', 'banana', 'egg', 'bread', 'noodle', 'orange']"
            ]
          },
          "metadata": {},
          "execution_count": 69
        }
      ]
    },
    {
      "cell_type": "code",
      "source": [
        "shopping_list.insert(2, \"milk\")\n",
        "shopping_list"
      ],
      "metadata": {
        "colab": {
          "base_uri": "https://localhost:8080/"
        },
        "id": "3E0CYpt9vy52",
        "outputId": "e2bd6db3-69ff-4af4-b596-1cf5f1a122c5"
      },
      "execution_count": null,
      "outputs": [
        {
          "output_type": "execute_result",
          "data": {
            "text/plain": [
              "['grape', 'banana', 'milk', 'egg', 'bread', 'noodle', 'orange']"
            ]
          },
          "metadata": {},
          "execution_count": 70
        }
      ]
    },
    {
      "cell_type": "code",
      "source": [
        "# count item in list\n",
        "\n",
        "len(shopping_list)"
      ],
      "metadata": {
        "colab": {
          "base_uri": "https://localhost:8080/"
        },
        "id": "4MeFnTSswKuV",
        "outputId": "5d082099-5fd3-4d88-ee98-8a4ff5dab1b9"
      },
      "execution_count": null,
      "outputs": [
        {
          "output_type": "execute_result",
          "data": {
            "text/plain": [
              "7"
            ]
          },
          "metadata": {},
          "execution_count": 71
        }
      ]
    },
    {
      "cell_type": "code",
      "source": [
        "shopping_list.pop(1)"
      ],
      "metadata": {
        "colab": {
          "base_uri": "https://localhost:8080/",
          "height": 37
        },
        "id": "emoecrQzwlnh",
        "outputId": "cb97c2c4-6316-4fe2-d6c5-6dbf9b983704"
      },
      "execution_count": null,
      "outputs": [
        {
          "output_type": "execute_result",
          "data": {
            "text/plain": [
              "'milk'"
            ],
            "application/vnd.google.colaboratory.intrinsic+json": {
              "type": "string"
            }
          },
          "metadata": {},
          "execution_count": 81
        }
      ]
    },
    {
      "cell_type": "code",
      "source": [
        "shopping_list"
      ],
      "metadata": {
        "colab": {
          "base_uri": "https://localhost:8080/"
        },
        "id": "JMph5dbCxXUX",
        "outputId": "089894ed-44c4-4d9d-856e-6417c84a9e8f"
      },
      "execution_count": null,
      "outputs": [
        {
          "output_type": "execute_result",
          "data": {
            "text/plain": [
              "['grape', 'milk', 'egg', 'bread']"
            ]
          },
          "metadata": {},
          "execution_count": 80
        }
      ]
    },
    {
      "cell_type": "code",
      "source": [
        "# Add two list togethers\n",
        "item1 = [\"banana\",\"grape\",\"orange\"]\n",
        "item2 = [\"milk\",\"bread\"]\n",
        "\n",
        "full_list = item1 + item2\n",
        "print(full_list, len(full_list))\n"
      ],
      "metadata": {
        "id": "pTyz9H-byBS1",
        "colab": {
          "base_uri": "https://localhost:8080/"
        },
        "outputId": "499f71f8-dc26-4dd5-c71c-b8289a7054cf"
      },
      "execution_count": null,
      "outputs": [
        {
          "output_type": "stream",
          "name": "stdout",
          "text": [
            "['banana', 'grape', 'orange', 'milk', 'bread'] 5\n"
          ]
        }
      ]
    },
    {
      "cell_type": "code",
      "source": [
        "# sort element in list\n",
        "full_list.sort(reverse=True)\n",
        "full_list"
      ],
      "metadata": {
        "colab": {
          "base_uri": "https://localhost:8080/"
        },
        "id": "daB4CGXUGjkD",
        "outputId": "8359a6b3-2070-4f7e-886e-8a994f8e7199"
      },
      "execution_count": null,
      "outputs": [
        {
          "output_type": "execute_result",
          "data": {
            "text/plain": [
              "['orange', 'milk', 'grape', 'bread', 'banana']"
            ]
          },
          "metadata": {},
          "execution_count": 5
        }
      ]
    },
    {
      "cell_type": "code",
      "source": [
        "# How to use list\n",
        "item1 = [\"banana\",\"orange\"]\n",
        "item2 = item1.copy()\n",
        "\n",
        "item1[0] = \"longan\"\n",
        "print(item1, item2)"
      ],
      "metadata": {
        "colab": {
          "base_uri": "https://localhost:8080/"
        },
        "id": "vfvdGaTqIXWB",
        "outputId": "ed091e3b-9fce-4fd5-c3b8-11d37927c696"
      },
      "execution_count": null,
      "outputs": [
        {
          "output_type": "stream",
          "name": "stdout",
          "text": [
            "['longan', 'orange'] ['banana', 'orange']\n"
          ]
        }
      ]
    },
    {
      "cell_type": "code",
      "source": [
        "# Tuple() very similar to list\n",
        "friends = (\"toy\", \"john\",\"mary\",\"mary\")\n",
        "friends"
      ],
      "metadata": {
        "colab": {
          "base_uri": "https://localhost:8080/"
        },
        "id": "plxuk7GyK_jk",
        "outputId": "101e75e1-afee-4d20-b64a-a4a268588486"
      },
      "execution_count": null,
      "outputs": [
        {
          "output_type": "execute_result",
          "data": {
            "text/plain": [
              "('toy', 'john', 'mary', 'mary')"
            ]
          },
          "metadata": {},
          "execution_count": 11
        }
      ]
    },
    {
      "cell_type": "code",
      "source": [
        "friends.index(\"john\")"
      ],
      "metadata": {
        "colab": {
          "base_uri": "https://localhost:8080/"
        },
        "id": "biC3IRAwPWTj",
        "outputId": "25d084ed-e679-46bc-bea2-4113227c149e"
      },
      "execution_count": null,
      "outputs": [
        {
          "output_type": "execute_result",
          "data": {
            "text/plain": [
              "1"
            ]
          },
          "metadata": {},
          "execution_count": 14
        }
      ]
    },
    {
      "cell_type": "code",
      "source": [
        "# Dictionary {}\n",
        "# key-value pair\n",
        "def hi():\n",
        "    return \"hi1\"\n",
        "\n",
        "toy = {\n",
        "    \"fname\": \"Suthisak\",\n",
        "    \"lname\": \"Muanchaona\",\n",
        "    \"age\": 40,\n",
        "    \"movie_lover\": True,\n",
        "    \"education\": \"Doctor\",\n",
        "    \"fav_movie\": [\"m1\",\"m2\",\"m3\"],\n",
        "    \"function\": hi,\n",
        "}"
      ],
      "metadata": {
        "id": "aRS3aO5CSN38"
      },
      "execution_count": null,
      "outputs": []
    },
    {
      "cell_type": "code",
      "source": [
        "toy_function = toy[\"function\"]\n",
        "toy_function()"
      ],
      "metadata": {
        "colab": {
          "base_uri": "https://localhost:8080/",
          "height": 37
        },
        "id": "-J68Zy7FshZf",
        "outputId": "620606f7-6614-43b5-c4d3-337c52b62e23"
      },
      "execution_count": null,
      "outputs": [
        {
          "output_type": "execute_result",
          "data": {
            "text/plain": [
              "'hi1'"
            ],
            "application/vnd.google.colaboratory.intrinsic+json": {
              "type": "string"
            }
          },
          "metadata": {},
          "execution_count": 6
        }
      ]
    },
    {
      "cell_type": "code",
      "source": [
        "# update value in dict\n",
        "# dict is mutable\n",
        "toy[\"school\"] = \"Cookie\"\n",
        "toy\n"
      ],
      "metadata": {
        "colab": {
          "base_uri": "https://localhost:8080/"
        },
        "id": "sbanAyAvtaC-",
        "outputId": "e08beb2f-5b4f-467e-f71a-0564f1564cb0"
      },
      "execution_count": null,
      "outputs": [
        {
          "output_type": "execute_result",
          "data": {
            "text/plain": [
              "{'lname': 'Muanchaona',\n",
              " 'age': 40,\n",
              " 'movie_lover': True,\n",
              " 'education': 'Doctor',\n",
              " 'fav_movie': ['m1', 'm2', 'm3'],\n",
              " 'function': <function __main__.hi()>,\n",
              " 'fname': 'Memo',\n",
              " 'school': 'Cookie'}"
            ]
          },
          "metadata": {},
          "execution_count": 14
        }
      ]
    },
    {
      "cell_type": "code",
      "source": [
        "# set {unique set}\n",
        "\n",
        "fruits = [\"apple\", \"orange\", \"banana\", \"banana\"]\n",
        "print(fruits)\n",
        "type(fruits)"
      ],
      "metadata": {
        "colab": {
          "base_uri": "https://localhost:8080/"
        },
        "id": "lFzMw0PCwEXk",
        "outputId": "1076800f-87fe-48d9-cd50-197407442b45"
      },
      "execution_count": null,
      "outputs": [
        {
          "output_type": "stream",
          "name": "stdout",
          "text": [
            "['apple', 'orange', 'banana', 'banana']\n"
          ]
        },
        {
          "output_type": "execute_result",
          "data": {
            "text/plain": [
              "list"
            ]
          },
          "metadata": {},
          "execution_count": 23
        }
      ]
    },
    {
      "cell_type": "code",
      "source": [
        "set(fruits)\n",
        "unique_set_fruits = set(fruits)\n",
        "type(unique_set_fruits)\n",
        "len(unique_set_fruits)"
      ],
      "metadata": {
        "colab": {
          "base_uri": "https://localhost:8080/"
        },
        "id": "pAJ2JP8UywWT",
        "outputId": "d0739148-6978-4ed7-f383-f7b410fffae4"
      },
      "execution_count": null,
      "outputs": [
        {
          "output_type": "execute_result",
          "data": {
            "text/plain": [
              "3"
            ]
          },
          "metadata": {},
          "execution_count": 28
        }
      ]
    }
  ]
}